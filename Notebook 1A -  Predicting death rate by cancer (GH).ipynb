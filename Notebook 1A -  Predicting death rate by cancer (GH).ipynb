{
 "cells": [
  {
   "cell_type": "markdown",
   "id": "1ca054ca",
   "metadata": {},
   "source": [
    "# Predicting the death by cancer rate for US counties\n",
    "\n",
    "\n",
    "# Notebook 1A - Preprocessing:\n",
    "\n",
    "###                                           Data cleaning, univariate and bivariate analysis"
   ]
  },
  {
   "cell_type": "markdown",
   "id": "ed4a2cc3",
   "metadata": {},
   "source": [
    "# Problem definition"
   ]
  },
  {
   "cell_type": "markdown",
   "id": "5074aa62",
   "metadata": {},
   "source": [
    "Predicting the death by cancer rate for US counties."
   ]
  },
  {
   "cell_type": "code",
   "execution_count": 1,
   "id": "21fa1fb4",
   "metadata": {},
   "outputs": [
    {
     "name": "stdout",
     "output_type": "stream",
     "text": [
      "3.8.8 (default, Apr 13 2021, 15:08:03) [MSC v.1916 64 bit (AMD64)]\n"
     ]
    }
   ],
   "source": [
    "import sys\n",
    "\n",
    "print(sys.version)"
   ]
  },
  {
   "cell_type": "markdown",
   "id": "ffb8c19c",
   "metadata": {},
   "source": [
    "# 1. Loading the dataset\n"
   ]
  },
  {
   "cell_type": "markdown",
   "id": "ee84fdab",
   "metadata": {},
   "source": [
    "The original location of the file:\n",
    "\n",
    "https://data.world/nrippner/ols-regression-challenge/file/cancer_reg.csv"
   ]
  },
  {
   "cell_type": "markdown",
   "id": "a228bc4d",
   "metadata": {},
   "source": [
    "**Data Dictionary**\n",
    "\n",
    "**TARGET_deathRate:** Dependent variable. Mean per capita (100,000) cancer mortalities(a)\n",
    "\n",
    "**avgAnnCount:** Mean number of reported cases of cancer diagnosed annually(a)\n",
    "\n",
    "**avgDeathsPerYear:** Mean number of reported mortalities due to cancer(a)\n",
    "\n",
    "**incidenceRate:** Mean per capita (100,000) cancer diagoses(a)\n",
    "\n",
    "**medianIncome:** Median income per county (b)\n",
    "\n",
    "**popEst2015:** Population of county (b)\n",
    "\n",
    "**povertyPercent:** Percent of populace in poverty (b)\n",
    "\n",
    "**studyPerCap:** Per capita number of cancer-related clinical trials per county (a)\n",
    "\n",
    "**binnedInc:** Median income per capita binned by decile (b)\n",
    "\n",
    "**MedianAge:** Median age of county residents (b)\n",
    "\n",
    "**MedianAgeMale:** Median age of male county residents (b)\n",
    "\n",
    "**MedianAgeFemale:** Median age of female county residents (b)\n",
    "\n",
    "**Geography:** County name (b)\n",
    "\n",
    "**AvgHouseholdSize:** Mean household size of county (b)\n",
    "\n",
    "**PercentMarried:** Percent of county residents who are married (b)\n",
    "\n",
    "**PctNoHS18_24:** Percent of county residents ages 18-24 highest education attained: less than high school (b)\n",
    "\n",
    "**PctHS18_24:** Percent of county residents ages 18-24 highest education attained: high school diploma (b)\n",
    "\n",
    "**PctSomeCol18_24:** Percent of county residents ages 18-24 highest education attained: some college (b)\n",
    "\n",
    "**PctBachDeg18_24:** Percent of county residents ages 18-24 highest education attained: bachelor's degree (b)\n",
    "\n",
    "**PctHS25_Over:** Percent of county residents ages 25 and over highest education attained: high school diploma (b)\n",
    "\n",
    "**PctBachDeg25_Over:** Percent of county residents ages 25 and over highest education attained: bachelor's degree (b)\n",
    "\n",
    "**PctEmployed16_Over:** Percent of county residents ages 16 and over employed (b)\n",
    "\n",
    "**PctUnemployed16_Over:** Percent of county residents ages 16 and over unemployed (b)\n",
    "\n",
    "**PctPrivateCoverage:** Percent of county residents with private health coverage (b)\n",
    "\n",
    "**PctPrivateCoverageAlone:** Percent of county residents with private health coverage alone (no public assistance) (b)\n",
    "\n",
    "**PctEmpPrivCoverage:** Percent of county residents with employee-provided private health coverage (b)\n",
    "\n",
    "**PctPublicCoverage:** Percent of county residents with government-provided health coverage (b)\n",
    "\n",
    "**PctPubliceCoverageAlone:** Percent of county residents with government-provided health coverage alone (b)\n",
    "\n",
    "**PctWhite:** Percent of county residents who identify as White (b)\n",
    "\n",
    "**PctBlack:** Percent of county residents who identify as Black (b)\n",
    "\n",
    "**PctAsian:** Percent of county residents who identify as Asian (b)\n",
    "\n",
    "**PctOtherRace:** Percent of county residents who identify in a category which is not White, Black, or Asian (b)\n",
    "\n",
    "**PctMarriedHouseholds:** Percent of married households (b)\n",
    "\n",
    "**BirthRate:** Number of live births relative to number of women in county (b)\n",
    "\n",
    "(a): years 2010-2016\n",
    "\n",
    "(b): 2013 Census Estimates\n",
    "\n",
    "https://data.world/nrippner/ols-regression-challenge"
   ]
  },
  {
   "cell_type": "code",
   "execution_count": 2,
   "id": "cc8cd363",
   "metadata": {},
   "outputs": [
    {
     "data": {
      "text/html": [
       "<div>\n",
       "<style scoped>\n",
       "    .dataframe tbody tr th:only-of-type {\n",
       "        vertical-align: middle;\n",
       "    }\n",
       "\n",
       "    .dataframe tbody tr th {\n",
       "        vertical-align: top;\n",
       "    }\n",
       "\n",
       "    .dataframe thead th {\n",
       "        text-align: right;\n",
       "    }\n",
       "</style>\n",
       "<table border=\"1\" class=\"dataframe\">\n",
       "  <thead>\n",
       "    <tr style=\"text-align: right;\">\n",
       "      <th></th>\n",
       "      <th>avgAnnCount</th>\n",
       "      <th>avgDeathsPerYear</th>\n",
       "      <th>TARGET_deathRate</th>\n",
       "      <th>incidenceRate</th>\n",
       "      <th>medIncome</th>\n",
       "      <th>popEst2015</th>\n",
       "      <th>povertyPercent</th>\n",
       "      <th>studyPerCap</th>\n",
       "      <th>binnedInc</th>\n",
       "      <th>MedianAge</th>\n",
       "      <th>...</th>\n",
       "      <th>PctPrivateCoverageAlone</th>\n",
       "      <th>PctEmpPrivCoverage</th>\n",
       "      <th>PctPublicCoverage</th>\n",
       "      <th>PctPublicCoverageAlone</th>\n",
       "      <th>PctWhite</th>\n",
       "      <th>PctBlack</th>\n",
       "      <th>PctAsian</th>\n",
       "      <th>PctOtherRace</th>\n",
       "      <th>PctMarriedHouseholds</th>\n",
       "      <th>BirthRate</th>\n",
       "    </tr>\n",
       "  </thead>\n",
       "  <tbody>\n",
       "    <tr>\n",
       "      <th>0</th>\n",
       "      <td>1397.0</td>\n",
       "      <td>469</td>\n",
       "      <td>164.9</td>\n",
       "      <td>489.8</td>\n",
       "      <td>61898</td>\n",
       "      <td>260131</td>\n",
       "      <td>11.2</td>\n",
       "      <td>499.748204</td>\n",
       "      <td>(61494.5, 125635]</td>\n",
       "      <td>39.3</td>\n",
       "      <td>...</td>\n",
       "      <td>NaN</td>\n",
       "      <td>41.6</td>\n",
       "      <td>32.9</td>\n",
       "      <td>14.0</td>\n",
       "      <td>81.780529</td>\n",
       "      <td>2.594728</td>\n",
       "      <td>4.821857</td>\n",
       "      <td>1.843479</td>\n",
       "      <td>52.856076</td>\n",
       "      <td>6.118831</td>\n",
       "    </tr>\n",
       "    <tr>\n",
       "      <th>1</th>\n",
       "      <td>173.0</td>\n",
       "      <td>70</td>\n",
       "      <td>161.3</td>\n",
       "      <td>411.6</td>\n",
       "      <td>48127</td>\n",
       "      <td>43269</td>\n",
       "      <td>18.6</td>\n",
       "      <td>23.111234</td>\n",
       "      <td>(48021.6, 51046.4]</td>\n",
       "      <td>33.0</td>\n",
       "      <td>...</td>\n",
       "      <td>53.8</td>\n",
       "      <td>43.6</td>\n",
       "      <td>31.1</td>\n",
       "      <td>15.3</td>\n",
       "      <td>89.228509</td>\n",
       "      <td>0.969102</td>\n",
       "      <td>2.246233</td>\n",
       "      <td>3.741352</td>\n",
       "      <td>45.372500</td>\n",
       "      <td>4.333096</td>\n",
       "    </tr>\n",
       "    <tr>\n",
       "      <th>2</th>\n",
       "      <td>102.0</td>\n",
       "      <td>50</td>\n",
       "      <td>174.7</td>\n",
       "      <td>349.7</td>\n",
       "      <td>49348</td>\n",
       "      <td>21026</td>\n",
       "      <td>14.6</td>\n",
       "      <td>47.560164</td>\n",
       "      <td>(48021.6, 51046.4]</td>\n",
       "      <td>45.0</td>\n",
       "      <td>...</td>\n",
       "      <td>43.5</td>\n",
       "      <td>34.9</td>\n",
       "      <td>42.1</td>\n",
       "      <td>21.1</td>\n",
       "      <td>90.922190</td>\n",
       "      <td>0.739673</td>\n",
       "      <td>0.465898</td>\n",
       "      <td>2.747358</td>\n",
       "      <td>54.444868</td>\n",
       "      <td>3.729488</td>\n",
       "    </tr>\n",
       "    <tr>\n",
       "      <th>3</th>\n",
       "      <td>427.0</td>\n",
       "      <td>202</td>\n",
       "      <td>194.8</td>\n",
       "      <td>430.4</td>\n",
       "      <td>44243</td>\n",
       "      <td>75882</td>\n",
       "      <td>17.1</td>\n",
       "      <td>342.637253</td>\n",
       "      <td>(42724.4, 45201]</td>\n",
       "      <td>42.8</td>\n",
       "      <td>...</td>\n",
       "      <td>40.3</td>\n",
       "      <td>35.0</td>\n",
       "      <td>45.3</td>\n",
       "      <td>25.0</td>\n",
       "      <td>91.744686</td>\n",
       "      <td>0.782626</td>\n",
       "      <td>1.161359</td>\n",
       "      <td>1.362643</td>\n",
       "      <td>51.021514</td>\n",
       "      <td>4.603841</td>\n",
       "    </tr>\n",
       "    <tr>\n",
       "      <th>4</th>\n",
       "      <td>57.0</td>\n",
       "      <td>26</td>\n",
       "      <td>144.4</td>\n",
       "      <td>350.1</td>\n",
       "      <td>49955</td>\n",
       "      <td>10321</td>\n",
       "      <td>12.5</td>\n",
       "      <td>0.000000</td>\n",
       "      <td>(48021.6, 51046.4]</td>\n",
       "      <td>48.3</td>\n",
       "      <td>...</td>\n",
       "      <td>43.9</td>\n",
       "      <td>35.1</td>\n",
       "      <td>44.0</td>\n",
       "      <td>22.7</td>\n",
       "      <td>94.104024</td>\n",
       "      <td>0.270192</td>\n",
       "      <td>0.665830</td>\n",
       "      <td>0.492135</td>\n",
       "      <td>54.027460</td>\n",
       "      <td>6.796657</td>\n",
       "    </tr>\n",
       "  </tbody>\n",
       "</table>\n",
       "<p>5 rows × 34 columns</p>\n",
       "</div>"
      ],
      "text/plain": [
       "   avgAnnCount  avgDeathsPerYear  TARGET_deathRate  incidenceRate  medIncome  \\\n",
       "0       1397.0               469             164.9          489.8      61898   \n",
       "1        173.0                70             161.3          411.6      48127   \n",
       "2        102.0                50             174.7          349.7      49348   \n",
       "3        427.0               202             194.8          430.4      44243   \n",
       "4         57.0                26             144.4          350.1      49955   \n",
       "\n",
       "   popEst2015  povertyPercent  studyPerCap           binnedInc  MedianAge  \\\n",
       "0      260131            11.2   499.748204   (61494.5, 125635]       39.3   \n",
       "1       43269            18.6    23.111234  (48021.6, 51046.4]       33.0   \n",
       "2       21026            14.6    47.560164  (48021.6, 51046.4]       45.0   \n",
       "3       75882            17.1   342.637253    (42724.4, 45201]       42.8   \n",
       "4       10321            12.5     0.000000  (48021.6, 51046.4]       48.3   \n",
       "\n",
       "   ...  PctPrivateCoverageAlone  PctEmpPrivCoverage PctPublicCoverage  \\\n",
       "0  ...                      NaN                41.6              32.9   \n",
       "1  ...                     53.8                43.6              31.1   \n",
       "2  ...                     43.5                34.9              42.1   \n",
       "3  ...                     40.3                35.0              45.3   \n",
       "4  ...                     43.9                35.1              44.0   \n",
       "\n",
       "   PctPublicCoverageAlone   PctWhite  PctBlack  PctAsian  PctOtherRace  \\\n",
       "0                    14.0  81.780529  2.594728  4.821857      1.843479   \n",
       "1                    15.3  89.228509  0.969102  2.246233      3.741352   \n",
       "2                    21.1  90.922190  0.739673  0.465898      2.747358   \n",
       "3                    25.0  91.744686  0.782626  1.161359      1.362643   \n",
       "4                    22.7  94.104024  0.270192  0.665830      0.492135   \n",
       "\n",
       "   PctMarriedHouseholds  BirthRate  \n",
       "0             52.856076   6.118831  \n",
       "1             45.372500   4.333096  \n",
       "2             54.444868   3.729488  \n",
       "3             51.021514   4.603841  \n",
       "4             54.027460   6.796657  \n",
       "\n",
       "[5 rows x 34 columns]"
      ]
     },
     "execution_count": 2,
     "metadata": {},
     "output_type": "execute_result"
    }
   ],
   "source": [
    "import numpy as np\n",
    "import pandas as pd\n",
    "\n",
    "cancer_df = pd.DataFrame(pd.read_csv(\"C:\\\\Users\\\\skent\\\\OneDrive\\\\Documents\\\\1. GradDip Data Science UA\\\\5. Python B\\\\Assessments\\\\Ass 2\\\\Datasets\\\\cancer_reg.csv\"))\n",
    "cancer_df.head()                 "
   ]
  },
  {
   "cell_type": "code",
   "execution_count": 3,
   "id": "bd3f65b4",
   "metadata": {},
   "outputs": [
    {
     "data": {
      "text/plain": [
       "(3047, 34)"
      ]
     },
     "execution_count": 3,
     "metadata": {},
     "output_type": "execute_result"
    }
   ],
   "source": [
    "cancer_df.shape"
   ]
  },
  {
   "cell_type": "markdown",
   "id": "3c2e0c49",
   "metadata": {},
   "source": [
    "**Checking data types**"
   ]
  },
  {
   "cell_type": "code",
   "execution_count": 4,
   "id": "df4cb313",
   "metadata": {},
   "outputs": [
    {
     "data": {
      "text/plain": [
       "avgAnnCount                float64\n",
       "avgDeathsPerYear             int64\n",
       "TARGET_deathRate           float64\n",
       "incidenceRate              float64\n",
       "medIncome                    int64\n",
       "popEst2015                   int64\n",
       "povertyPercent             float64\n",
       "studyPerCap                float64\n",
       "binnedInc                   object\n",
       "MedianAge                  float64\n",
       "MedianAgeMale              float64\n",
       "MedianAgeFemale            float64\n",
       "Geography                   object\n",
       "AvgHouseholdSize           float64\n",
       "PercentMarried             float64\n",
       "PctNoHS18_24               float64\n",
       "PctHS18_24                 float64\n",
       "PctSomeCol18_24            float64\n",
       "PctBachDeg18_24            float64\n",
       "PctHS25_Over               float64\n",
       "PctBachDeg25_Over          float64\n",
       "PctEmployed16_Over         float64\n",
       "PctUnemployed16_Over       float64\n",
       "PctPrivateCoverage         float64\n",
       "PctPrivateCoverageAlone    float64\n",
       "PctEmpPrivCoverage         float64\n",
       "PctPublicCoverage          float64\n",
       "PctPublicCoverageAlone     float64\n",
       "PctWhite                   float64\n",
       "PctBlack                   float64\n",
       "PctAsian                   float64\n",
       "PctOtherRace               float64\n",
       "PctMarriedHouseholds       float64\n",
       "BirthRate                  float64\n",
       "dtype: object"
      ]
     },
     "execution_count": 4,
     "metadata": {},
     "output_type": "execute_result"
    }
   ],
   "source": [
    "cancer_df.dtypes"
   ]
  },
  {
   "cell_type": "markdown",
   "id": "ce61ae74",
   "metadata": {},
   "source": [
    "# 2. Pre-processing the dataset"
   ]
  },
  {
   "cell_type": "markdown",
   "id": "fbdeb7e4",
   "metadata": {},
   "source": [
    "## a. Cleaning"
   ]
  },
  {
   "cell_type": "markdown",
   "id": "db632d7a",
   "metadata": {},
   "source": [
    "**Creating a copy of cancer_df to make changes to**"
   ]
  },
  {
   "cell_type": "code",
   "execution_count": 5,
   "id": "0c802f73",
   "metadata": {},
   "outputs": [],
   "source": [
    "cancer_1 = cancer_df.copy()"
   ]
  },
  {
   "cell_type": "markdown",
   "id": "9f7af7d8",
   "metadata": {},
   "source": [
    "**All variables are the correct type**\n",
    "\n",
    "If they were not then the astype(<type>) function could be used. E.g. if I preferred the 'avgAnnCount' to be an integer rather than a float, I would use the code below:\n",
    "\n",
    "cancer_1.avgAnnCount  =  cancer_1.avgAnnCount.astype( 'int64' )\n",
    "    \n",
    "**The categorical variables will be converted to numerical before the modelling process as further cleaning is necessary on these varibles before they are ready for use.**"
   ]
  },
  {
   "cell_type": "markdown",
   "id": "a4282b60",
   "metadata": {},
   "source": [
    "### Exploring the dataset"
   ]
  },
  {
   "cell_type": "code",
   "execution_count": 6,
   "id": "403edcad",
   "metadata": {},
   "outputs": [
    {
     "data": {
      "text/html": [
       "<div>\n",
       "<style scoped>\n",
       "    .dataframe tbody tr th:only-of-type {\n",
       "        vertical-align: middle;\n",
       "    }\n",
       "\n",
       "    .dataframe tbody tr th {\n",
       "        vertical-align: top;\n",
       "    }\n",
       "\n",
       "    .dataframe thead th {\n",
       "        text-align: right;\n",
       "    }\n",
       "</style>\n",
       "<table border=\"1\" class=\"dataframe\">\n",
       "  <thead>\n",
       "    <tr style=\"text-align: right;\">\n",
       "      <th></th>\n",
       "      <th>count</th>\n",
       "      <th>mean</th>\n",
       "      <th>std</th>\n",
       "      <th>min</th>\n",
       "      <th>25%</th>\n",
       "      <th>50%</th>\n",
       "      <th>75%</th>\n",
       "      <th>max</th>\n",
       "    </tr>\n",
       "  </thead>\n",
       "  <tbody>\n",
       "    <tr>\n",
       "      <th>avgAnnCount</th>\n",
       "      <td>3047.0</td>\n",
       "      <td>606.338544</td>\n",
       "      <td>1416.356223</td>\n",
       "      <td>6.000000</td>\n",
       "      <td>76.000000</td>\n",
       "      <td>171.000000</td>\n",
       "      <td>518.000000</td>\n",
       "      <td>3.815000e+04</td>\n",
       "    </tr>\n",
       "    <tr>\n",
       "      <th>avgDeathsPerYear</th>\n",
       "      <td>3047.0</td>\n",
       "      <td>185.965868</td>\n",
       "      <td>504.134286</td>\n",
       "      <td>3.000000</td>\n",
       "      <td>28.000000</td>\n",
       "      <td>61.000000</td>\n",
       "      <td>149.000000</td>\n",
       "      <td>1.401000e+04</td>\n",
       "    </tr>\n",
       "    <tr>\n",
       "      <th>TARGET_deathRate</th>\n",
       "      <td>3047.0</td>\n",
       "      <td>178.664063</td>\n",
       "      <td>27.751511</td>\n",
       "      <td>59.700000</td>\n",
       "      <td>161.200000</td>\n",
       "      <td>178.100000</td>\n",
       "      <td>195.200000</td>\n",
       "      <td>3.628000e+02</td>\n",
       "    </tr>\n",
       "    <tr>\n",
       "      <th>incidenceRate</th>\n",
       "      <td>3047.0</td>\n",
       "      <td>448.268586</td>\n",
       "      <td>54.560733</td>\n",
       "      <td>201.300000</td>\n",
       "      <td>420.300000</td>\n",
       "      <td>453.549422</td>\n",
       "      <td>480.850000</td>\n",
       "      <td>1.206900e+03</td>\n",
       "    </tr>\n",
       "    <tr>\n",
       "      <th>medIncome</th>\n",
       "      <td>3047.0</td>\n",
       "      <td>47063.281917</td>\n",
       "      <td>12040.090836</td>\n",
       "      <td>22640.000000</td>\n",
       "      <td>38882.500000</td>\n",
       "      <td>45207.000000</td>\n",
       "      <td>52492.000000</td>\n",
       "      <td>1.256350e+05</td>\n",
       "    </tr>\n",
       "    <tr>\n",
       "      <th>popEst2015</th>\n",
       "      <td>3047.0</td>\n",
       "      <td>102637.370528</td>\n",
       "      <td>329059.220504</td>\n",
       "      <td>827.000000</td>\n",
       "      <td>11684.000000</td>\n",
       "      <td>26643.000000</td>\n",
       "      <td>68671.000000</td>\n",
       "      <td>1.017029e+07</td>\n",
       "    </tr>\n",
       "    <tr>\n",
       "      <th>povertyPercent</th>\n",
       "      <td>3047.0</td>\n",
       "      <td>16.878175</td>\n",
       "      <td>6.409087</td>\n",
       "      <td>3.200000</td>\n",
       "      <td>12.150000</td>\n",
       "      <td>15.900000</td>\n",
       "      <td>20.400000</td>\n",
       "      <td>4.740000e+01</td>\n",
       "    </tr>\n",
       "    <tr>\n",
       "      <th>studyPerCap</th>\n",
       "      <td>3047.0</td>\n",
       "      <td>155.399415</td>\n",
       "      <td>529.628366</td>\n",
       "      <td>0.000000</td>\n",
       "      <td>0.000000</td>\n",
       "      <td>0.000000</td>\n",
       "      <td>83.650776</td>\n",
       "      <td>9.762309e+03</td>\n",
       "    </tr>\n",
       "    <tr>\n",
       "      <th>MedianAge</th>\n",
       "      <td>3047.0</td>\n",
       "      <td>45.272333</td>\n",
       "      <td>45.304480</td>\n",
       "      <td>22.300000</td>\n",
       "      <td>37.700000</td>\n",
       "      <td>41.000000</td>\n",
       "      <td>44.000000</td>\n",
       "      <td>6.240000e+02</td>\n",
       "    </tr>\n",
       "    <tr>\n",
       "      <th>MedianAgeMale</th>\n",
       "      <td>3047.0</td>\n",
       "      <td>39.570725</td>\n",
       "      <td>5.226017</td>\n",
       "      <td>22.400000</td>\n",
       "      <td>36.350000</td>\n",
       "      <td>39.600000</td>\n",
       "      <td>42.500000</td>\n",
       "      <td>6.470000e+01</td>\n",
       "    </tr>\n",
       "    <tr>\n",
       "      <th>MedianAgeFemale</th>\n",
       "      <td>3047.0</td>\n",
       "      <td>42.145323</td>\n",
       "      <td>5.292849</td>\n",
       "      <td>22.300000</td>\n",
       "      <td>39.100000</td>\n",
       "      <td>42.400000</td>\n",
       "      <td>45.300000</td>\n",
       "      <td>6.570000e+01</td>\n",
       "    </tr>\n",
       "    <tr>\n",
       "      <th>AvgHouseholdSize</th>\n",
       "      <td>3047.0</td>\n",
       "      <td>2.479662</td>\n",
       "      <td>0.429174</td>\n",
       "      <td>0.022100</td>\n",
       "      <td>2.370000</td>\n",
       "      <td>2.500000</td>\n",
       "      <td>2.630000</td>\n",
       "      <td>3.970000e+00</td>\n",
       "    </tr>\n",
       "    <tr>\n",
       "      <th>PercentMarried</th>\n",
       "      <td>3047.0</td>\n",
       "      <td>51.773679</td>\n",
       "      <td>6.896928</td>\n",
       "      <td>23.100000</td>\n",
       "      <td>47.750000</td>\n",
       "      <td>52.400000</td>\n",
       "      <td>56.400000</td>\n",
       "      <td>7.250000e+01</td>\n",
       "    </tr>\n",
       "    <tr>\n",
       "      <th>PctNoHS18_24</th>\n",
       "      <td>3047.0</td>\n",
       "      <td>18.224450</td>\n",
       "      <td>8.093064</td>\n",
       "      <td>0.000000</td>\n",
       "      <td>12.800000</td>\n",
       "      <td>17.100000</td>\n",
       "      <td>22.700000</td>\n",
       "      <td>6.410000e+01</td>\n",
       "    </tr>\n",
       "    <tr>\n",
       "      <th>PctHS18_24</th>\n",
       "      <td>3047.0</td>\n",
       "      <td>35.002068</td>\n",
       "      <td>9.069722</td>\n",
       "      <td>0.000000</td>\n",
       "      <td>29.200000</td>\n",
       "      <td>34.700000</td>\n",
       "      <td>40.700000</td>\n",
       "      <td>7.250000e+01</td>\n",
       "    </tr>\n",
       "    <tr>\n",
       "      <th>PctSomeCol18_24</th>\n",
       "      <td>762.0</td>\n",
       "      <td>40.977034</td>\n",
       "      <td>11.115805</td>\n",
       "      <td>7.100000</td>\n",
       "      <td>34.000000</td>\n",
       "      <td>40.400000</td>\n",
       "      <td>46.400000</td>\n",
       "      <td>7.900000e+01</td>\n",
       "    </tr>\n",
       "    <tr>\n",
       "      <th>PctBachDeg18_24</th>\n",
       "      <td>3047.0</td>\n",
       "      <td>6.158287</td>\n",
       "      <td>4.529059</td>\n",
       "      <td>0.000000</td>\n",
       "      <td>3.100000</td>\n",
       "      <td>5.400000</td>\n",
       "      <td>8.200000</td>\n",
       "      <td>5.180000e+01</td>\n",
       "    </tr>\n",
       "    <tr>\n",
       "      <th>PctHS25_Over</th>\n",
       "      <td>3047.0</td>\n",
       "      <td>34.804660</td>\n",
       "      <td>7.034924</td>\n",
       "      <td>7.500000</td>\n",
       "      <td>30.400000</td>\n",
       "      <td>35.300000</td>\n",
       "      <td>39.650000</td>\n",
       "      <td>5.480000e+01</td>\n",
       "    </tr>\n",
       "    <tr>\n",
       "      <th>PctBachDeg25_Over</th>\n",
       "      <td>3047.0</td>\n",
       "      <td>13.282015</td>\n",
       "      <td>5.394756</td>\n",
       "      <td>2.500000</td>\n",
       "      <td>9.400000</td>\n",
       "      <td>12.300000</td>\n",
       "      <td>16.100000</td>\n",
       "      <td>4.220000e+01</td>\n",
       "    </tr>\n",
       "    <tr>\n",
       "      <th>PctEmployed16_Over</th>\n",
       "      <td>2895.0</td>\n",
       "      <td>54.152642</td>\n",
       "      <td>8.315064</td>\n",
       "      <td>17.600000</td>\n",
       "      <td>48.600000</td>\n",
       "      <td>54.500000</td>\n",
       "      <td>60.300000</td>\n",
       "      <td>8.010000e+01</td>\n",
       "    </tr>\n",
       "    <tr>\n",
       "      <th>PctUnemployed16_Over</th>\n",
       "      <td>3047.0</td>\n",
       "      <td>7.852412</td>\n",
       "      <td>3.452371</td>\n",
       "      <td>0.400000</td>\n",
       "      <td>5.500000</td>\n",
       "      <td>7.600000</td>\n",
       "      <td>9.700000</td>\n",
       "      <td>2.940000e+01</td>\n",
       "    </tr>\n",
       "    <tr>\n",
       "      <th>PctPrivateCoverage</th>\n",
       "      <td>3047.0</td>\n",
       "      <td>64.354939</td>\n",
       "      <td>10.647057</td>\n",
       "      <td>22.300000</td>\n",
       "      <td>57.200000</td>\n",
       "      <td>65.100000</td>\n",
       "      <td>72.100000</td>\n",
       "      <td>9.230000e+01</td>\n",
       "    </tr>\n",
       "    <tr>\n",
       "      <th>PctPrivateCoverageAlone</th>\n",
       "      <td>2438.0</td>\n",
       "      <td>48.453774</td>\n",
       "      <td>10.083006</td>\n",
       "      <td>15.700000</td>\n",
       "      <td>41.000000</td>\n",
       "      <td>48.700000</td>\n",
       "      <td>55.600000</td>\n",
       "      <td>7.890000e+01</td>\n",
       "    </tr>\n",
       "    <tr>\n",
       "      <th>PctEmpPrivCoverage</th>\n",
       "      <td>3047.0</td>\n",
       "      <td>41.196324</td>\n",
       "      <td>9.447687</td>\n",
       "      <td>13.500000</td>\n",
       "      <td>34.500000</td>\n",
       "      <td>41.100000</td>\n",
       "      <td>47.700000</td>\n",
       "      <td>7.070000e+01</td>\n",
       "    </tr>\n",
       "    <tr>\n",
       "      <th>PctPublicCoverage</th>\n",
       "      <td>3047.0</td>\n",
       "      <td>36.252642</td>\n",
       "      <td>7.841741</td>\n",
       "      <td>11.200000</td>\n",
       "      <td>30.900000</td>\n",
       "      <td>36.300000</td>\n",
       "      <td>41.550000</td>\n",
       "      <td>6.510000e+01</td>\n",
       "    </tr>\n",
       "    <tr>\n",
       "      <th>PctPublicCoverageAlone</th>\n",
       "      <td>3047.0</td>\n",
       "      <td>19.240072</td>\n",
       "      <td>6.113041</td>\n",
       "      <td>2.600000</td>\n",
       "      <td>14.850000</td>\n",
       "      <td>18.800000</td>\n",
       "      <td>23.100000</td>\n",
       "      <td>4.660000e+01</td>\n",
       "    </tr>\n",
       "    <tr>\n",
       "      <th>PctWhite</th>\n",
       "      <td>3047.0</td>\n",
       "      <td>83.645286</td>\n",
       "      <td>16.380025</td>\n",
       "      <td>10.199155</td>\n",
       "      <td>77.296180</td>\n",
       "      <td>90.059774</td>\n",
       "      <td>95.451693</td>\n",
       "      <td>1.000000e+02</td>\n",
       "    </tr>\n",
       "    <tr>\n",
       "      <th>PctBlack</th>\n",
       "      <td>3047.0</td>\n",
       "      <td>9.107978</td>\n",
       "      <td>14.534538</td>\n",
       "      <td>0.000000</td>\n",
       "      <td>0.620675</td>\n",
       "      <td>2.247576</td>\n",
       "      <td>10.509732</td>\n",
       "      <td>8.594780e+01</td>\n",
       "    </tr>\n",
       "    <tr>\n",
       "      <th>PctAsian</th>\n",
       "      <td>3047.0</td>\n",
       "      <td>1.253965</td>\n",
       "      <td>2.610276</td>\n",
       "      <td>0.000000</td>\n",
       "      <td>0.254199</td>\n",
       "      <td>0.549812</td>\n",
       "      <td>1.221037</td>\n",
       "      <td>4.261942e+01</td>\n",
       "    </tr>\n",
       "    <tr>\n",
       "      <th>PctOtherRace</th>\n",
       "      <td>3047.0</td>\n",
       "      <td>1.983523</td>\n",
       "      <td>3.517710</td>\n",
       "      <td>0.000000</td>\n",
       "      <td>0.295172</td>\n",
       "      <td>0.826185</td>\n",
       "      <td>2.177960</td>\n",
       "      <td>4.193025e+01</td>\n",
       "    </tr>\n",
       "    <tr>\n",
       "      <th>PctMarriedHouseholds</th>\n",
       "      <td>3047.0</td>\n",
       "      <td>51.243872</td>\n",
       "      <td>6.572814</td>\n",
       "      <td>22.992490</td>\n",
       "      <td>47.763063</td>\n",
       "      <td>51.669941</td>\n",
       "      <td>55.395132</td>\n",
       "      <td>7.807540e+01</td>\n",
       "    </tr>\n",
       "    <tr>\n",
       "      <th>BirthRate</th>\n",
       "      <td>3047.0</td>\n",
       "      <td>5.640306</td>\n",
       "      <td>1.985816</td>\n",
       "      <td>0.000000</td>\n",
       "      <td>4.521419</td>\n",
       "      <td>5.381478</td>\n",
       "      <td>6.493677</td>\n",
       "      <td>2.132616e+01</td>\n",
       "    </tr>\n",
       "  </tbody>\n",
       "</table>\n",
       "</div>"
      ],
      "text/plain": [
       "                          count           mean            std           min  \\\n",
       "avgAnnCount              3047.0     606.338544    1416.356223      6.000000   \n",
       "avgDeathsPerYear         3047.0     185.965868     504.134286      3.000000   \n",
       "TARGET_deathRate         3047.0     178.664063      27.751511     59.700000   \n",
       "incidenceRate            3047.0     448.268586      54.560733    201.300000   \n",
       "medIncome                3047.0   47063.281917   12040.090836  22640.000000   \n",
       "popEst2015               3047.0  102637.370528  329059.220504    827.000000   \n",
       "povertyPercent           3047.0      16.878175       6.409087      3.200000   \n",
       "studyPerCap              3047.0     155.399415     529.628366      0.000000   \n",
       "MedianAge                3047.0      45.272333      45.304480     22.300000   \n",
       "MedianAgeMale            3047.0      39.570725       5.226017     22.400000   \n",
       "MedianAgeFemale          3047.0      42.145323       5.292849     22.300000   \n",
       "AvgHouseholdSize         3047.0       2.479662       0.429174      0.022100   \n",
       "PercentMarried           3047.0      51.773679       6.896928     23.100000   \n",
       "PctNoHS18_24             3047.0      18.224450       8.093064      0.000000   \n",
       "PctHS18_24               3047.0      35.002068       9.069722      0.000000   \n",
       "PctSomeCol18_24           762.0      40.977034      11.115805      7.100000   \n",
       "PctBachDeg18_24          3047.0       6.158287       4.529059      0.000000   \n",
       "PctHS25_Over             3047.0      34.804660       7.034924      7.500000   \n",
       "PctBachDeg25_Over        3047.0      13.282015       5.394756      2.500000   \n",
       "PctEmployed16_Over       2895.0      54.152642       8.315064     17.600000   \n",
       "PctUnemployed16_Over     3047.0       7.852412       3.452371      0.400000   \n",
       "PctPrivateCoverage       3047.0      64.354939      10.647057     22.300000   \n",
       "PctPrivateCoverageAlone  2438.0      48.453774      10.083006     15.700000   \n",
       "PctEmpPrivCoverage       3047.0      41.196324       9.447687     13.500000   \n",
       "PctPublicCoverage        3047.0      36.252642       7.841741     11.200000   \n",
       "PctPublicCoverageAlone   3047.0      19.240072       6.113041      2.600000   \n",
       "PctWhite                 3047.0      83.645286      16.380025     10.199155   \n",
       "PctBlack                 3047.0       9.107978      14.534538      0.000000   \n",
       "PctAsian                 3047.0       1.253965       2.610276      0.000000   \n",
       "PctOtherRace             3047.0       1.983523       3.517710      0.000000   \n",
       "PctMarriedHouseholds     3047.0      51.243872       6.572814     22.992490   \n",
       "BirthRate                3047.0       5.640306       1.985816      0.000000   \n",
       "\n",
       "                                  25%           50%           75%  \\\n",
       "avgAnnCount                 76.000000    171.000000    518.000000   \n",
       "avgDeathsPerYear            28.000000     61.000000    149.000000   \n",
       "TARGET_deathRate           161.200000    178.100000    195.200000   \n",
       "incidenceRate              420.300000    453.549422    480.850000   \n",
       "medIncome                38882.500000  45207.000000  52492.000000   \n",
       "popEst2015               11684.000000  26643.000000  68671.000000   \n",
       "povertyPercent              12.150000     15.900000     20.400000   \n",
       "studyPerCap                  0.000000      0.000000     83.650776   \n",
       "MedianAge                   37.700000     41.000000     44.000000   \n",
       "MedianAgeMale               36.350000     39.600000     42.500000   \n",
       "MedianAgeFemale             39.100000     42.400000     45.300000   \n",
       "AvgHouseholdSize             2.370000      2.500000      2.630000   \n",
       "PercentMarried              47.750000     52.400000     56.400000   \n",
       "PctNoHS18_24                12.800000     17.100000     22.700000   \n",
       "PctHS18_24                  29.200000     34.700000     40.700000   \n",
       "PctSomeCol18_24             34.000000     40.400000     46.400000   \n",
       "PctBachDeg18_24              3.100000      5.400000      8.200000   \n",
       "PctHS25_Over                30.400000     35.300000     39.650000   \n",
       "PctBachDeg25_Over            9.400000     12.300000     16.100000   \n",
       "PctEmployed16_Over          48.600000     54.500000     60.300000   \n",
       "PctUnemployed16_Over         5.500000      7.600000      9.700000   \n",
       "PctPrivateCoverage          57.200000     65.100000     72.100000   \n",
       "PctPrivateCoverageAlone     41.000000     48.700000     55.600000   \n",
       "PctEmpPrivCoverage          34.500000     41.100000     47.700000   \n",
       "PctPublicCoverage           30.900000     36.300000     41.550000   \n",
       "PctPublicCoverageAlone      14.850000     18.800000     23.100000   \n",
       "PctWhite                    77.296180     90.059774     95.451693   \n",
       "PctBlack                     0.620675      2.247576     10.509732   \n",
       "PctAsian                     0.254199      0.549812      1.221037   \n",
       "PctOtherRace                 0.295172      0.826185      2.177960   \n",
       "PctMarriedHouseholds        47.763063     51.669941     55.395132   \n",
       "BirthRate                    4.521419      5.381478      6.493677   \n",
       "\n",
       "                                  max  \n",
       "avgAnnCount              3.815000e+04  \n",
       "avgDeathsPerYear         1.401000e+04  \n",
       "TARGET_deathRate         3.628000e+02  \n",
       "incidenceRate            1.206900e+03  \n",
       "medIncome                1.256350e+05  \n",
       "popEst2015               1.017029e+07  \n",
       "povertyPercent           4.740000e+01  \n",
       "studyPerCap              9.762309e+03  \n",
       "MedianAge                6.240000e+02  \n",
       "MedianAgeMale            6.470000e+01  \n",
       "MedianAgeFemale          6.570000e+01  \n",
       "AvgHouseholdSize         3.970000e+00  \n",
       "PercentMarried           7.250000e+01  \n",
       "PctNoHS18_24             6.410000e+01  \n",
       "PctHS18_24               7.250000e+01  \n",
       "PctSomeCol18_24          7.900000e+01  \n",
       "PctBachDeg18_24          5.180000e+01  \n",
       "PctHS25_Over             5.480000e+01  \n",
       "PctBachDeg25_Over        4.220000e+01  \n",
       "PctEmployed16_Over       8.010000e+01  \n",
       "PctUnemployed16_Over     2.940000e+01  \n",
       "PctPrivateCoverage       9.230000e+01  \n",
       "PctPrivateCoverageAlone  7.890000e+01  \n",
       "PctEmpPrivCoverage       7.070000e+01  \n",
       "PctPublicCoverage        6.510000e+01  \n",
       "PctPublicCoverageAlone   4.660000e+01  \n",
       "PctWhite                 1.000000e+02  \n",
       "PctBlack                 8.594780e+01  \n",
       "PctAsian                 4.261942e+01  \n",
       "PctOtherRace             4.193025e+01  \n",
       "PctMarriedHouseholds     7.807540e+01  \n",
       "BirthRate                2.132616e+01  "
      ]
     },
     "execution_count": 6,
     "metadata": {},
     "output_type": "execute_result"
    }
   ],
   "source": [
    "cancer_1.describe().transpose()"
   ]
  },
  {
   "cell_type": "markdown",
   "id": "bbe7136a",
   "metadata": {},
   "source": [
    "Some variables have less than count = 3047, suggesting missing or na values.\n",
    "\n",
    "* PctSomeCol18_24 = less than 3047 count\n",
    "* PctEmployed16_Over = less than 3047 count\n",
    "* PctPrivateCoverageAlone = less than 3047 count\n",
    "\n",
    "There are some obvious potential outliers in variables:\n",
    "\n",
    "* avgAnnCount.max = 38150\n",
    "* avgDeathsPerYear.max = 14010\n",
    "* studyPerCap.max = 9762.3\n",
    "* MedianAge.max = 624\n",
    "* BirthRate.max = 21.33\n"
   ]
  },
  {
   "cell_type": "markdown",
   "id": "d2e832b4",
   "metadata": {},
   "source": [
    "## Checking for missing values"
   ]
  },
  {
   "cell_type": "code",
   "execution_count": 7,
   "id": "d53cc0a4",
   "metadata": {},
   "outputs": [
    {
     "data": {
      "text/plain": [
       "avgAnnCount                   0\n",
       "avgDeathsPerYear              0\n",
       "TARGET_deathRate              0\n",
       "incidenceRate                 0\n",
       "medIncome                     0\n",
       "popEst2015                    0\n",
       "povertyPercent                0\n",
       "studyPerCap                   0\n",
       "binnedInc                     0\n",
       "MedianAge                     0\n",
       "MedianAgeMale                 0\n",
       "MedianAgeFemale               0\n",
       "Geography                     0\n",
       "AvgHouseholdSize              0\n",
       "PercentMarried                0\n",
       "PctNoHS18_24                  0\n",
       "PctHS18_24                    0\n",
       "PctSomeCol18_24            2285\n",
       "PctBachDeg18_24               0\n",
       "PctHS25_Over                  0\n",
       "PctBachDeg25_Over             0\n",
       "PctEmployed16_Over          152\n",
       "PctUnemployed16_Over          0\n",
       "PctPrivateCoverage            0\n",
       "PctPrivateCoverageAlone     609\n",
       "PctEmpPrivCoverage            0\n",
       "PctPublicCoverage             0\n",
       "PctPublicCoverageAlone        0\n",
       "PctWhite                      0\n",
       "PctBlack                      0\n",
       "PctAsian                      0\n",
       "PctOtherRace                  0\n",
       "PctMarriedHouseholds          0\n",
       "BirthRate                     0\n",
       "dtype: int64"
      ]
     },
     "execution_count": 7,
     "metadata": {},
     "output_type": "execute_result"
    }
   ],
   "source": [
    "cancer_1.isnull().sum()"
   ]
  },
  {
   "cell_type": "markdown",
   "id": "e019af89",
   "metadata": {},
   "source": [
    "PctSomeCol18_24 has 2285 na values. This is 75% of the data. It is best ot remove this variable.\n",
    "\n",
    "PctEmployed16_Over has 152 na values, which is only 5% of the data. The na data will be replaced with the column mean.\n",
    "\n",
    "PctPrivateCoverageAlone has 609 na values, which is 20% of the data. The na data will be replaced with the column mean."
   ]
  },
  {
   "cell_type": "markdown",
   "id": "ff649bfa",
   "metadata": {},
   "source": [
    "#### Dropping the variable 'PctSomeCol18_24' and replacing the na values with the variable mean in 'PctEmployed16_Over' and 'PctPrivateCoverageAlone'"
   ]
  },
  {
   "cell_type": "code",
   "execution_count": 8,
   "id": "d7127af5",
   "metadata": {},
   "outputs": [],
   "source": [
    "cancer_1.drop(columns = ['PctSomeCol18_24'], inplace=True)"
   ]
  },
  {
   "cell_type": "code",
   "execution_count": 9,
   "id": "d1277f92",
   "metadata": {},
   "outputs": [],
   "source": [
    "cancer_1.fillna(cancer_1.mean(), inplace = True)"
   ]
  },
  {
   "cell_type": "code",
   "execution_count": 10,
   "id": "7751010d",
   "metadata": {},
   "outputs": [
    {
     "data": {
      "text/plain": [
       "avgAnnCount                0\n",
       "avgDeathsPerYear           0\n",
       "TARGET_deathRate           0\n",
       "incidenceRate              0\n",
       "medIncome                  0\n",
       "popEst2015                 0\n",
       "povertyPercent             0\n",
       "studyPerCap                0\n",
       "binnedInc                  0\n",
       "MedianAge                  0\n",
       "MedianAgeMale              0\n",
       "MedianAgeFemale            0\n",
       "Geography                  0\n",
       "AvgHouseholdSize           0\n",
       "PercentMarried             0\n",
       "PctNoHS18_24               0\n",
       "PctHS18_24                 0\n",
       "PctBachDeg18_24            0\n",
       "PctHS25_Over               0\n",
       "PctBachDeg25_Over          0\n",
       "PctEmployed16_Over         0\n",
       "PctUnemployed16_Over       0\n",
       "PctPrivateCoverage         0\n",
       "PctPrivateCoverageAlone    0\n",
       "PctEmpPrivCoverage         0\n",
       "PctPublicCoverage          0\n",
       "PctPublicCoverageAlone     0\n",
       "PctWhite                   0\n",
       "PctBlack                   0\n",
       "PctAsian                   0\n",
       "PctOtherRace               0\n",
       "PctMarriedHouseholds       0\n",
       "BirthRate                  0\n",
       "dtype: int64"
      ]
     },
     "execution_count": 10,
     "metadata": {},
     "output_type": "execute_result"
    }
   ],
   "source": [
    "cancer_1.isnull().sum()"
   ]
  },
  {
   "cell_type": "markdown",
   "id": "411f8f2e",
   "metadata": {},
   "source": [
    "Comment:"
   ]
  },
  {
   "cell_type": "markdown",
   "id": "b84c5822",
   "metadata": {},
   "source": [
    "**Creating another copy of the dataframe**"
   ]
  },
  {
   "cell_type": "code",
   "execution_count": 11,
   "id": "766f3172",
   "metadata": {},
   "outputs": [],
   "source": [
    "cancer_2 = cancer_1.copy()"
   ]
  },
  {
   "cell_type": "markdown",
   "id": "58570e3c",
   "metadata": {},
   "source": [
    "### Histogram plots of variables with potential outliers"
   ]
  },
  {
   "cell_type": "markdown",
   "id": "737da8c7",
   "metadata": {},
   "source": [
    "**'Average annual count' - mean number of reported cases of cancer diagnosed annually**"
   ]
  },
  {
   "cell_type": "code",
   "execution_count": 12,
   "id": "38db4da3",
   "metadata": {},
   "outputs": [
    {
     "data": {
      "image/png": "[encoded data removed]",
      "text/plain": [
       "<Figure size 720x216 with 1 Axes>"
      ]
     },
     "metadata": {},
     "output_type": "display_data"
    },
    {
     "data": {
      "image/png": "[encoded data removed]",
      "text/plain": [
       "<Figure size 720x432 with 1 Axes>"
      ]
     },
     "metadata": {},
     "output_type": "display_data"
    }
   ],
   "source": [
    "import seaborn as sns\n",
    "import matplotlib.pyplot as plt\n",
    "\n",
    "sns.set(style=\"darkgrid\")\n",
    "\n",
    "fig = plt.figure(figsize=(10, 3))\n",
    "\n",
    "sns.histplot(data=cancer_2, x=\"avgAnnCount\",  color=\"purple\")\n",
    "plt.title(\"Full histogram of Average annual count of reported cases of cancer\")\n",
    "plt.show()\n",
    "\n",
    "fig = plt.figure(figsize=(10, 6))\n",
    "\n",
    "sns.histplot(data=cancer_2, x=\"avgAnnCount\",  color=\"purple\")\n",
    "plt.ylim(bottom=0, top=20)\n",
    "plt.title(\"Zoomed histogram of Average annual count of reported cases of cancer to highlight outliers\")\n",
    "plt.show()"
   ]
  },
  {
   "cell_type": "markdown",
   "id": "6faeec05",
   "metadata": {},
   "source": [
    "There are 2 obvious outliers at approx. 25000 and 38150. Let's remove these values."
   ]
  },
  {
   "cell_type": "code",
   "execution_count": 13,
   "id": "08a8d780",
   "metadata": {},
   "outputs": [
    {
     "data": {
      "text/plain": [
       "14477.0"
      ]
     },
     "execution_count": 13,
     "metadata": {},
     "output_type": "execute_result"
    }
   ],
   "source": [
    "cancer_2 = cancer_2[(cancer_2.avgAnnCount < 15000)]\n",
    "cancer_2.avgAnnCount.max()"
   ]
  },
  {
   "cell_type": "markdown",
   "id": "ef313b1f",
   "metadata": {},
   "source": [
    "**Mean deaths per year**"
   ]
  },
  {
   "cell_type": "code",
   "execution_count": 14,
   "id": "9c0f16d3",
   "metadata": {},
   "outputs": [
    {
     "data": {
      "image/png": "[encoded data removed]",
      "text/plain": [
       "<Figure size 720x216 with 1 Axes>"
      ]
     },
     "metadata": {},
     "output_type": "display_data"
    },
    {
     "data": {
      "image/png": "[encoded data removed]",
      "text/plain": [
       "<Figure size 720x432 with 1 Axes>"
      ]
     },
     "metadata": {},
     "output_type": "display_data"
    }
   ],
   "source": [
    "fig = plt.figure(figsize=(10, 3))\n",
    "\n",
    "sns.histplot(data=cancer_2, x=\"avgDeathsPerYear\",  color=\"olive\")\n",
    "plt.title(\"Full histogram of Mean deaths per year\")\n",
    "plt.show()\n",
    "\n",
    "fig = plt.figure(figsize=(10, 6))\n",
    "\n",
    "sns.histplot(data=cancer_2, x=\"avgDeathsPerYear\",  color=\"olive\")\n",
    "plt.ylim(bottom=0, top=20)\n",
    "plt.title(\"Zoomed histogram of Mean deaths per year to highlight outliers\")\n",
    "plt.show()"
   ]
  },
  {
   "cell_type": "markdown",
   "id": "5bdeb804",
   "metadata": {},
   "source": [
    "There are 2 obvious outliers at approx. 9200 and 14010. Let's remove anything above 6000."
   ]
  },
  {
   "cell_type": "code",
   "execution_count": 15,
   "id": "af809b97",
   "metadata": {},
   "outputs": [
    {
     "data": {
      "text/plain": [
       "5108"
      ]
     },
     "execution_count": 15,
     "metadata": {},
     "output_type": "execute_result"
    }
   ],
   "source": [
    "cancer_2 = cancer_2[(cancer_2.avgDeathsPerYear < 6000)]\n",
    "cancer_2.avgDeathsPerYear.max()"
   ]
  },
  {
   "cell_type": "markdown",
   "id": "1d7f7600",
   "metadata": {},
   "source": [
    "**Per capita number of cancer - related clinical trials per county**"
   ]
  },
  {
   "cell_type": "code",
   "execution_count": 16,
   "id": "69cf4401",
   "metadata": {},
   "outputs": [
    {
     "data": {
      "image/png": "[encoded data removed]",
      "text/plain": [
       "<Figure size 720x216 with 1 Axes>"
      ]
     },
     "metadata": {},
     "output_type": "display_data"
    },
    {
     "data": {
      "image/png": "[encoded data removed]",
      "text/plain": [
       "<Figure size 720x432 with 1 Axes>"
      ]
     },
     "metadata": {},
     "output_type": "display_data"
    }
   ],
   "source": [
    "fig = plt.figure(figsize=(10, 3))\n",
    "\n",
    "sns.histplot(data=cancer_2, x=\"studyPerCap\",  color=\"red\")\n",
    "plt.title(\"Full histogram of Studies per capita\")\n",
    "plt.show()\n",
    "\n",
    "\n",
    "fig = plt.figure(figsize=(10, 6))\n",
    "\n",
    "sns.histplot(data=cancer_2, x=\"studyPerCap\",  color=\"red\")\n",
    "plt.ylim(bottom=0, top=20)\n",
    "plt.title(\"Zoomed histogram of Studies per capita to highight outliers\")\n",
    "plt.show()"
   ]
  },
  {
   "cell_type": "markdown",
   "id": "dd26afd6",
   "metadata": {},
   "source": [
    "There are 3 obvious outliers at approx. 6800, 9500 and 9762. Let's remove any entries greater than 6000."
   ]
  },
  {
   "cell_type": "code",
   "execution_count": 17,
   "id": "8f0b14db",
   "metadata": {},
   "outputs": [
    {
     "data": {
      "text/plain": [
       "4938.271605"
      ]
     },
     "execution_count": 17,
     "metadata": {},
     "output_type": "execute_result"
    }
   ],
   "source": [
    "cancer_2 = cancer_2[(cancer_2.studyPerCap < 6000)]\n",
    "cancer_2.studyPerCap.max()"
   ]
  },
  {
   "cell_type": "markdown",
   "id": "bb3f157d",
   "metadata": {},
   "source": [
    "**Median Age**"
   ]
  },
  {
   "cell_type": "code",
   "execution_count": 18,
   "id": "329d1d8b",
   "metadata": {},
   "outputs": [
    {
     "data": {
      "image/png": "[encoded data removed]",
      "text/plain": [
       "<Figure size 720x216 with 1 Axes>"
      ]
     },
     "metadata": {},
     "output_type": "display_data"
    },
    {
     "data": {
      "image/png": "[encoded data removed]",
      "text/plain": [
       "<Figure size 720x432 with 1 Axes>"
      ]
     },
     "metadata": {},
     "output_type": "display_data"
    }
   ],
   "source": [
    "fig = plt.figure(figsize=(10, 3))\n",
    "\n",
    "sns.histplot(data=cancer_2, x=\"MedianAge\",  color=\"teal\")\n",
    "plt.title(\"Full histogram of Median Age\")\n",
    "plt.show()\n",
    "\n",
    "fig = plt.figure(figsize=(10, 6))\n",
    "\n",
    "sns.histplot(data=cancer_2, x=\"MedianAge\",  color=\"teal\")\n",
    "plt.ylim(bottom=0, top=20)\n",
    "plt.title(\"Zoomed histogram of Median Age to highlight outliers\")\n",
    "plt.show()"
   ]
  },
  {
   "cell_type": "markdown",
   "id": "1c939fff",
   "metadata": {},
   "source": [
    "Obvious outliers appear in this variable. Lets filter out values > 100"
   ]
  },
  {
   "cell_type": "code",
   "execution_count": 19,
   "id": "378d7b5f",
   "metadata": {},
   "outputs": [
    {
     "data": {
      "text/plain": [
       "65.3"
      ]
     },
     "execution_count": 19,
     "metadata": {},
     "output_type": "execute_result"
    }
   ],
   "source": [
    "cancer_2 = cancer_2[(cancer_2.MedianAge < 100)]\n",
    "cancer_2.MedianAge.max()"
   ]
  },
  {
   "cell_type": "markdown",
   "id": "0189bfd0",
   "metadata": {},
   "source": [
    "**Birth rate - Number of live births relative to number of women in county**"
   ]
  },
  {
   "cell_type": "code",
   "execution_count": 20,
   "id": "9f7086d1",
   "metadata": {},
   "outputs": [
    {
     "data": {
      "image/png": "[encoded data removed]",
      "text/plain": [
       "<Figure size 720x216 with 1 Axes>"
      ]
     },
     "metadata": {},
     "output_type": "display_data"
    },
    {
     "data": {
      "image/png": "[encoded data removed]",
      "text/plain": [
       "<Figure size 720x432 with 1 Axes>"
      ]
     },
     "metadata": {},
     "output_type": "display_data"
    }
   ],
   "source": [
    "fig = plt.figure(figsize=(10, 3))\n",
    "\n",
    "sns.histplot(data=cancer_2, x=\"BirthRate\",  color=\"orange\")\n",
    "plt.title(\"Full Histogram of Birth Rate\")\n",
    "plt.show()\n",
    "\n",
    "\n",
    "fig = plt.figure(figsize=(10, 6))\n",
    "\n",
    "sns.histplot(data=cancer_2, x=\"BirthRate\",  color=\"orange\")\n",
    "plt.ylim(bottom=0, top=20)\n",
    "plt.title(\"Zoomed Histogram of Birth rate to highlight outliers\")\n",
    "plt.show()"
   ]
  },
  {
   "cell_type": "markdown",
   "id": "9c12f2bf",
   "metadata": {},
   "source": [
    "There is an obvious outlier at 21.36. Let's remove this."
   ]
  },
  {
   "cell_type": "code",
   "execution_count": 21,
   "id": "8953c6cf",
   "metadata": {},
   "outputs": [
    {
     "data": {
      "text/plain": [
       "18.55670103"
      ]
     },
     "execution_count": 21,
     "metadata": {},
     "output_type": "execute_result"
    }
   ],
   "source": [
    "cancer_2 = cancer_2[(cancer_2.BirthRate < 20)]\n",
    "cancer_2.BirthRate.max()"
   ]
  },
  {
   "cell_type": "markdown",
   "id": "6dba2376",
   "metadata": {},
   "source": [
    "#### creating another copy"
   ]
  },
  {
   "cell_type": "code",
   "execution_count": 22,
   "id": "9dde4e2e",
   "metadata": {},
   "outputs": [],
   "source": [
    "cancer_3 = cancer_2.copy()"
   ]
  },
  {
   "cell_type": "markdown",
   "id": "d120813d",
   "metadata": {},
   "source": [
    "## b. Dealing with categorical variables\n",
    "\n",
    "#### Split 'Geography' column into 'County' and 'State' by delimiter"
   ]
  },
  {
   "cell_type": "code",
   "execution_count": 23,
   "id": "b09312da",
   "metadata": {},
   "outputs": [
    {
     "data": {
      "text/html": [
       "<div>\n",
       "<style scoped>\n",
       "    .dataframe tbody tr th:only-of-type {\n",
       "        vertical-align: middle;\n",
       "    }\n",
       "\n",
       "    .dataframe tbody tr th {\n",
       "        vertical-align: top;\n",
       "    }\n",
       "\n",
       "    .dataframe thead th {\n",
       "        text-align: right;\n",
       "    }\n",
       "</style>\n",
       "<table border=\"1\" class=\"dataframe\">\n",
       "  <thead>\n",
       "    <tr style=\"text-align: right;\">\n",
       "      <th></th>\n",
       "      <th>PctOtherRace</th>\n",
       "      <th>PctMarriedHouseholds</th>\n",
       "      <th>BirthRate</th>\n",
       "      <th>County</th>\n",
       "      <th>State</th>\n",
       "    </tr>\n",
       "  </thead>\n",
       "  <tbody>\n",
       "    <tr>\n",
       "      <th>0</th>\n",
       "      <td>1.843479</td>\n",
       "      <td>52.856076</td>\n",
       "      <td>6.118831</td>\n",
       "      <td>Kitsap County</td>\n",
       "      <td>Washington</td>\n",
       "    </tr>\n",
       "    <tr>\n",
       "      <th>1</th>\n",
       "      <td>3.741352</td>\n",
       "      <td>45.372500</td>\n",
       "      <td>4.333096</td>\n",
       "      <td>Kittitas County</td>\n",
       "      <td>Washington</td>\n",
       "    </tr>\n",
       "    <tr>\n",
       "      <th>2</th>\n",
       "      <td>2.747358</td>\n",
       "      <td>54.444868</td>\n",
       "      <td>3.729488</td>\n",
       "      <td>Klickitat County</td>\n",
       "      <td>Washington</td>\n",
       "    </tr>\n",
       "    <tr>\n",
       "      <th>3</th>\n",
       "      <td>1.362643</td>\n",
       "      <td>51.021514</td>\n",
       "      <td>4.603841</td>\n",
       "      <td>Lewis County</td>\n",
       "      <td>Washington</td>\n",
       "    </tr>\n",
       "    <tr>\n",
       "      <th>4</th>\n",
       "      <td>0.492135</td>\n",
       "      <td>54.027460</td>\n",
       "      <td>6.796657</td>\n",
       "      <td>Lincoln County</td>\n",
       "      <td>Washington</td>\n",
       "    </tr>\n",
       "  </tbody>\n",
       "</table>\n",
       "</div>"
      ],
      "text/plain": [
       "   PctOtherRace  PctMarriedHouseholds  BirthRate            County  \\\n",
       "0      1.843479             52.856076   6.118831     Kitsap County   \n",
       "1      3.741352             45.372500   4.333096   Kittitas County   \n",
       "2      2.747358             54.444868   3.729488  Klickitat County   \n",
       "3      1.362643             51.021514   4.603841      Lewis County   \n",
       "4      0.492135             54.027460   6.796657    Lincoln County   \n",
       "\n",
       "         State  \n",
       "0   Washington  \n",
       "1   Washington  \n",
       "2   Washington  \n",
       "3   Washington  \n",
       "4   Washington  "
      ]
     },
     "execution_count": 23,
     "metadata": {},
     "output_type": "execute_result"
    }
   ],
   "source": [
    "cancer_3[['County', 'State']] = cancer_3['Geography'].str.split(',', expand=True)\n",
    "# display the new columns\n",
    "cancer_3.iloc[:,30:].head()"
   ]
  },
  {
   "cell_type": "markdown",
   "id": "753fcb7e",
   "metadata": {},
   "source": [
    "**Dropping 'Geography'column as it is not necessary. 'County' is simply an ID column so will be removed**"
   ]
  },
  {
   "cell_type": "code",
   "execution_count": 24,
   "id": "efc98243",
   "metadata": {},
   "outputs": [],
   "source": [
    "cancer_3.drop(columns = ['Geography'], inplace=True)"
   ]
  },
  {
   "cell_type": "code",
   "execution_count": 25,
   "id": "c785f5be",
   "metadata": {},
   "outputs": [],
   "source": [
    "cancer_3.drop(columns = ['County'], inplace=True)"
   ]
  },
  {
   "cell_type": "code",
   "execution_count": 26,
   "id": "21c5f97f",
   "metadata": {},
   "outputs": [
    {
     "data": {
      "text/plain": [
       "(3009, 33)"
      ]
     },
     "execution_count": 26,
     "metadata": {},
     "output_type": "execute_result"
    }
   ],
   "source": [
    "# checking that the shape is as expected\n",
    "cancer_3.shape"
   ]
  },
  {
   "cell_type": "code",
   "execution_count": 27,
   "id": "7d080ec1",
   "metadata": {},
   "outputs": [
    {
     "data": {
      "text/plain": [
       "51"
      ]
     },
     "execution_count": 27,
     "metadata": {},
     "output_type": "execute_result"
    }
   ],
   "source": [
    "cancer_3.State.nunique()"
   ]
  },
  {
   "cell_type": "code",
   "execution_count": 28,
   "id": "06a7cd31",
   "metadata": {},
   "outputs": [
    {
     "data": {
      "text/plain": [
       "array([47, 48, 49, 27, 28, 29, 30, 31, 32, 46, 22, 23, 33, 34,  0,  3,  4,\n",
       "       26, 42, 43, 18, 19, 20, 21, 44, 45,  5, 50, 24, 25, 16, 17,  6,  7,\n",
       "        8,  9, 36, 37, 35, 38, 39, 40, 14, 15, 10, 11, 12, 13,  1,  2, 41])"
      ]
     },
     "execution_count": 28,
     "metadata": {},
     "output_type": "execute_result"
    }
   ],
   "source": [
    "# Import label encoder\n",
    "from sklearn import preprocessing\n",
    "  \n",
    "label_encoder = preprocessing.LabelEncoder()\n",
    "  \n",
    "# Encode labels in column 'State'.\n",
    "cancer_3['State']= label_encoder.fit_transform(cancer_3['State'])\n",
    "  \n",
    "cancer_3['State'].unique()"
   ]
  },
  {
   "cell_type": "code",
   "execution_count": 29,
   "id": "1fc10516",
   "metadata": {},
   "outputs": [
    {
     "data": {
      "text/plain": [
       "51"
      ]
     },
     "execution_count": 29,
     "metadata": {},
     "output_type": "execute_result"
    }
   ],
   "source": [
    "cancer_3.State.nunique()"
   ]
  },
  {
   "cell_type": "markdown",
   "id": "8d6ee561",
   "metadata": {},
   "source": [
    "**Re-formatting the 'binnedInc' elements to Levels 1 - 10 to make it easier to interpret**\n",
    "\n",
    "Level 1 being the lowest income group and Level 10 the highest income group.\n",
    "\n",
    "The element will be purely numerical, i.e. integers to enable use in the modeling process."
   ]
  },
  {
   "cell_type": "code",
   "execution_count": 30,
   "id": "665e6be6",
   "metadata": {},
   "outputs": [
    {
     "data": {
      "text/plain": [
       "array(['(61494.5, 125635]', '(48021.6, 51046.4]', '(42724.4, 45201]',\n",
       "       '(51046.4, 54545.6]', '(37413.8, 40362.7]', '(40362.7, 42724.4]',\n",
       "       '(54545.6, 61494.5]', '(34218.1, 37413.8]', '[22640, 34218.1]',\n",
       "       '(45201, 48021.6]'], dtype=object)"
      ]
     },
     "execution_count": 30,
     "metadata": {},
     "output_type": "execute_result"
    }
   ],
   "source": [
    "cancer_3.binnedInc.unique()"
   ]
  },
  {
   "cell_type": "code",
   "execution_count": 31,
   "id": "6fa9a645",
   "metadata": {},
   "outputs": [
    {
     "data": {
      "text/plain": [
       "array([10,  7,  5,  8,  3,  4,  9,  2,  1,  6], dtype=int64)"
      ]
     },
     "execution_count": 31,
     "metadata": {},
     "output_type": "execute_result"
    }
   ],
   "source": [
    "cancer_3.binnedInc.replace('(61494.5, 125635]', 10, inplace = True)\n",
    "cancer_3.binnedInc.replace('(54545.6, 61494.5]', 9, inplace = True)\n",
    "cancer_3.binnedInc.replace('(51046.4, 54545.6]', 8, inplace = True)\n",
    "cancer_3.binnedInc.replace('(48021.6, 51046.4]', 7, inplace = True)\n",
    "cancer_3.binnedInc.replace('(45201, 48021.6]', 6, inplace = True)\n",
    "cancer_3.binnedInc.replace('(42724.4, 45201]', 5, inplace = True)\n",
    "cancer_3.binnedInc.replace('(40362.7, 42724.4]', 4, inplace = True)\n",
    "cancer_3.binnedInc.replace('(37413.8, 40362.7]', 3, inplace = True)\n",
    "cancer_3.binnedInc.replace('(34218.1, 37413.8]', 2, inplace = True)\n",
    "cancer_3.binnedInc.replace('[22640, 34218.1]', 1, inplace = True)\n",
    "cancer_3.binnedInc.unique()"
   ]
  },
  {
   "cell_type": "code",
   "execution_count": 32,
   "id": "ed203716",
   "metadata": {},
   "outputs": [
    {
     "data": {
      "text/plain": [
       "(3009, 33)"
      ]
     },
     "execution_count": 32,
     "metadata": {},
     "output_type": "execute_result"
    }
   ],
   "source": [
    "cancer_3.shape"
   ]
  },
  {
   "cell_type": "markdown",
   "id": "b1b23d4d",
   "metadata": {},
   "source": [
    "### Saving the data with the to_csv function, for use in each of the different models "
   ]
  },
  {
   "cell_type": "code",
   "execution_count": null,
   "id": "60f8f030",
   "metadata": {},
   "outputs": [],
   "source": [
    "cancer_clean.to_csv('cancer_clean', index = False)"
   ]
  }
 ],
 "metadata": {
  "kernelspec": {
   "display_name": "Python 3",
   "language": "python",
   "name": "python3"
  },
  "language_info": {
   "codemirror_mode": {
    "name": "ipython",
    "version": 3
   },
   "file_extension": ".py",
   "mimetype": "text/x-python",
   "name": "python",
   "nbconvert_exporter": "python",
   "pygments_lexer": "ipython3",
   "version": "3.8.8"
  }
 },
 "nbformat": 4,
 "nbformat_minor": 5
}
