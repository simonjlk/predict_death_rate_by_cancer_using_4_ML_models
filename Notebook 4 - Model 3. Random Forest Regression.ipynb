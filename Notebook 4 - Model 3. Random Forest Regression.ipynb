{
 "cells": [
  {
   "cell_type": "markdown",
   "id": "c82379c5",
   "metadata": {},
   "source": [
    "# Notebook 4 - Model 3. Random Forest Regression \n",
    "\n",
    "## Simon Kennedy a1792695"
   ]
  },
  {
   "cell_type": "markdown",
   "id": "32313131",
   "metadata": {},
   "source": [
    "## Loading the clean and preprocessed dataset"
   ]
  },
  {
   "cell_type": "code",
   "execution_count": 20,
   "id": "41108525",
   "metadata": {},
   "outputs": [
    {
     "data": {
      "text/html": [
       "<div>\n",
       "<style scoped>\n",
       "    .dataframe tbody tr th:only-of-type {\n",
       "        vertical-align: middle;\n",
       "    }\n",
       "\n",
       "    .dataframe tbody tr th {\n",
       "        vertical-align: top;\n",
       "    }\n",
       "\n",
       "    .dataframe thead th {\n",
       "        text-align: right;\n",
       "    }\n",
       "</style>\n",
       "<table border=\"1\" class=\"dataframe\">\n",
       "  <thead>\n",
       "    <tr style=\"text-align: right;\">\n",
       "      <th></th>\n",
       "      <th>avgAnnCount</th>\n",
       "      <th>TARGET_deathRate</th>\n",
       "      <th>incidenceRate</th>\n",
       "      <th>povertyPercent</th>\n",
       "      <th>studyPerCap</th>\n",
       "      <th>binnedInc</th>\n",
       "      <th>MedianAgeMale</th>\n",
       "      <th>MedianAgeFemale</th>\n",
       "      <th>AvgHouseholdSize</th>\n",
       "      <th>PercentMarried</th>\n",
       "      <th>...</th>\n",
       "      <th>PctPrivateCoverage</th>\n",
       "      <th>PctPublicCoverage</th>\n",
       "      <th>PctPublicCoverageAlone</th>\n",
       "      <th>PctWhite</th>\n",
       "      <th>PctBlack</th>\n",
       "      <th>PctAsian</th>\n",
       "      <th>PctOtherRace</th>\n",
       "      <th>PctMarriedHouseholds</th>\n",
       "      <th>BirthRate</th>\n",
       "      <th>State</th>\n",
       "    </tr>\n",
       "  </thead>\n",
       "  <tbody>\n",
       "    <tr>\n",
       "      <th>0</th>\n",
       "      <td>1397.0</td>\n",
       "      <td>164.9</td>\n",
       "      <td>489.8</td>\n",
       "      <td>11.2</td>\n",
       "      <td>499.748204</td>\n",
       "      <td>10</td>\n",
       "      <td>36.9</td>\n",
       "      <td>41.7</td>\n",
       "      <td>2.54</td>\n",
       "      <td>52.5</td>\n",
       "      <td>...</td>\n",
       "      <td>75.1</td>\n",
       "      <td>32.9</td>\n",
       "      <td>14.0</td>\n",
       "      <td>81.780529</td>\n",
       "      <td>2.594728</td>\n",
       "      <td>4.821857</td>\n",
       "      <td>1.843479</td>\n",
       "      <td>52.856076</td>\n",
       "      <td>6.118831</td>\n",
       "      <td>47</td>\n",
       "    </tr>\n",
       "    <tr>\n",
       "      <th>1</th>\n",
       "      <td>173.0</td>\n",
       "      <td>161.3</td>\n",
       "      <td>411.6</td>\n",
       "      <td>18.6</td>\n",
       "      <td>23.111234</td>\n",
       "      <td>7</td>\n",
       "      <td>32.2</td>\n",
       "      <td>33.7</td>\n",
       "      <td>2.34</td>\n",
       "      <td>44.5</td>\n",
       "      <td>...</td>\n",
       "      <td>70.2</td>\n",
       "      <td>31.1</td>\n",
       "      <td>15.3</td>\n",
       "      <td>89.228509</td>\n",
       "      <td>0.969102</td>\n",
       "      <td>2.246233</td>\n",
       "      <td>3.741352</td>\n",
       "      <td>45.372500</td>\n",
       "      <td>4.333096</td>\n",
       "      <td>47</td>\n",
       "    </tr>\n",
       "    <tr>\n",
       "      <th>2</th>\n",
       "      <td>102.0</td>\n",
       "      <td>174.7</td>\n",
       "      <td>349.7</td>\n",
       "      <td>14.6</td>\n",
       "      <td>47.560164</td>\n",
       "      <td>7</td>\n",
       "      <td>44.0</td>\n",
       "      <td>45.8</td>\n",
       "      <td>2.62</td>\n",
       "      <td>54.2</td>\n",
       "      <td>...</td>\n",
       "      <td>63.7</td>\n",
       "      <td>42.1</td>\n",
       "      <td>21.1</td>\n",
       "      <td>90.922190</td>\n",
       "      <td>0.739673</td>\n",
       "      <td>0.465898</td>\n",
       "      <td>2.747358</td>\n",
       "      <td>54.444868</td>\n",
       "      <td>3.729488</td>\n",
       "      <td>47</td>\n",
       "    </tr>\n",
       "    <tr>\n",
       "      <th>3</th>\n",
       "      <td>427.0</td>\n",
       "      <td>194.8</td>\n",
       "      <td>430.4</td>\n",
       "      <td>17.1</td>\n",
       "      <td>342.637253</td>\n",
       "      <td>5</td>\n",
       "      <td>42.2</td>\n",
       "      <td>43.4</td>\n",
       "      <td>2.52</td>\n",
       "      <td>52.7</td>\n",
       "      <td>...</td>\n",
       "      <td>58.4</td>\n",
       "      <td>45.3</td>\n",
       "      <td>25.0</td>\n",
       "      <td>91.744686</td>\n",
       "      <td>0.782626</td>\n",
       "      <td>1.161359</td>\n",
       "      <td>1.362643</td>\n",
       "      <td>51.021514</td>\n",
       "      <td>4.603841</td>\n",
       "      <td>47</td>\n",
       "    </tr>\n",
       "    <tr>\n",
       "      <th>4</th>\n",
       "      <td>57.0</td>\n",
       "      <td>144.4</td>\n",
       "      <td>350.1</td>\n",
       "      <td>12.5</td>\n",
       "      <td>0.000000</td>\n",
       "      <td>7</td>\n",
       "      <td>47.8</td>\n",
       "      <td>48.9</td>\n",
       "      <td>2.34</td>\n",
       "      <td>57.8</td>\n",
       "      <td>...</td>\n",
       "      <td>61.6</td>\n",
       "      <td>44.0</td>\n",
       "      <td>22.7</td>\n",
       "      <td>94.104024</td>\n",
       "      <td>0.270192</td>\n",
       "      <td>0.665830</td>\n",
       "      <td>0.492135</td>\n",
       "      <td>54.027460</td>\n",
       "      <td>6.796657</td>\n",
       "      <td>47</td>\n",
       "    </tr>\n",
       "  </tbody>\n",
       "</table>\n",
       "<p>5 rows × 27 columns</p>\n",
       "</div>"
      ],
      "text/plain": [
       "   avgAnnCount  TARGET_deathRate  incidenceRate  povertyPercent  studyPerCap  \\\n",
       "0       1397.0             164.9          489.8            11.2   499.748204   \n",
       "1        173.0             161.3          411.6            18.6    23.111234   \n",
       "2        102.0             174.7          349.7            14.6    47.560164   \n",
       "3        427.0             194.8          430.4            17.1   342.637253   \n",
       "4         57.0             144.4          350.1            12.5     0.000000   \n",
       "\n",
       "   binnedInc  MedianAgeMale  MedianAgeFemale  AvgHouseholdSize  \\\n",
       "0         10           36.9             41.7              2.54   \n",
       "1          7           32.2             33.7              2.34   \n",
       "2          7           44.0             45.8              2.62   \n",
       "3          5           42.2             43.4              2.52   \n",
       "4          7           47.8             48.9              2.34   \n",
       "\n",
       "   PercentMarried  ...  PctPrivateCoverage  PctPublicCoverage  \\\n",
       "0            52.5  ...                75.1               32.9   \n",
       "1            44.5  ...                70.2               31.1   \n",
       "2            54.2  ...                63.7               42.1   \n",
       "3            52.7  ...                58.4               45.3   \n",
       "4            57.8  ...                61.6               44.0   \n",
       "\n",
       "   PctPublicCoverageAlone   PctWhite  PctBlack  PctAsian  PctOtherRace  \\\n",
       "0                    14.0  81.780529  2.594728  4.821857      1.843479   \n",
       "1                    15.3  89.228509  0.969102  2.246233      3.741352   \n",
       "2                    21.1  90.922190  0.739673  0.465898      2.747358   \n",
       "3                    25.0  91.744686  0.782626  1.161359      1.362643   \n",
       "4                    22.7  94.104024  0.270192  0.665830      0.492135   \n",
       "\n",
       "   PctMarriedHouseholds  BirthRate  State  \n",
       "0             52.856076   6.118831     47  \n",
       "1             45.372500   4.333096     47  \n",
       "2             54.444868   3.729488     47  \n",
       "3             51.021514   4.603841     47  \n",
       "4             54.027460   6.796657     47  \n",
       "\n",
       "[5 rows x 27 columns]"
      ]
     },
     "execution_count": 20,
     "metadata": {},
     "output_type": "execute_result"
    }
   ],
   "source": [
    "import numpy as np\n",
    "import pandas as pd\n",
    "\n",
    "cancer_df = pd.DataFrame(pd.read_csv(\"cancer_clean.csv\"))\n",
    "cancer_df.head()     "
   ]
  },
  {
   "cell_type": "markdown",
   "id": "b494392a",
   "metadata": {},
   "source": [
    "## Splitting the dataset into Training and Tesing data\n",
    "\n",
    "### Data Segregation"
   ]
  },
  {
   "cell_type": "code",
   "execution_count": 21,
   "id": "076b31de",
   "metadata": {},
   "outputs": [
    {
     "data": {
      "text/plain": [
       "((3009, 26), (3009,))"
      ]
     },
     "execution_count": 21,
     "metadata": {},
     "output_type": "execute_result"
    }
   ],
   "source": [
    "X = cancer_df.drop(columns = ['TARGET_deathRate'])\n",
    "y = cancer_df['TARGET_deathRate']\n",
    "\n",
    "X.shape, y.shape"
   ]
  },
  {
   "cell_type": "code",
   "execution_count": 33,
   "id": "4032fc44",
   "metadata": {},
   "outputs": [
    {
     "name": "stdout",
     "output_type": "stream",
     "text": [
      "(2256, 26)\n",
      "(753, 26)\n"
     ]
    }
   ],
   "source": [
    "from sklearn.model_selection import train_test_split\n",
    "\n",
    "X_train, X_test, y_train, y_test = train_test_split(X,y, random_state=42)\n",
    "# test_size is default 0.25 if train_size also none. i.e. train = 0.75, train = 0.25\n",
    "#defining a seed to get the same split in the data\n",
    "print(X_train.shape)\n",
    "print(X_test.shape)"
   ]
  },
  {
   "cell_type": "markdown",
   "id": "c9c1fe00",
   "metadata": {},
   "source": [
    "## k fold cross-validation to split the data"
   ]
  },
  {
   "cell_type": "code",
   "execution_count": 34,
   "id": "efc38582",
   "metadata": {},
   "outputs": [
    {
     "name": "stdout",
     "output_type": "stream",
     "text": [
      "First five train index: [1003 1004 1005 1006 1007] First five test index: [0 1 2 3 4]\n",
      "Shape of the Training set: (2006,) Shape of the Test set: (1003,) \n",
      "\n",
      "First five train index: [0 1 2 3 4] First five test index: [1003 1004 1005 1006 1007]\n",
      "Shape of the Training set: (2006,) Shape of the Test set: (1003,) \n",
      "\n",
      "First five train index: [0 1 2 3 4] First five test index: [2006 2007 2008 2009 2010]\n",
      "Shape of the Training set: (2006,) Shape of the Test set: (1003,) \n",
      "\n"
     ]
    }
   ],
   "source": [
    "# Creating the K-Fold ojbect\n",
    "from sklearn.model_selection import KFold\n",
    "cv_method = KFold(n_splits = 3)\n",
    "\n",
    "# Performing the K-Fold Cross-Validation\n",
    "for train_index, test_index in cv_method.split(cancer_df):\n",
    "    \n",
    "    # Obtaining the index for the training and test sets for the subset\n",
    "    print(\"First five train index:\", train_index[0:5], \"First five test index:\", test_index[0:5])\n",
    "    print('Shape of the Training set:', train_index.shape, 'Shape of the Test set:',test_index.shape, '\\n')"
   ]
  },
  {
   "cell_type": "markdown",
   "id": "d912543a",
   "metadata": {},
   "source": [
    "# Data Modeling\n",
    "\n",
    "## Model 3. Random Forest Regressor\n",
    "\n",
    "### Defining the model with scaling and then fitting the model"
   ]
  },
  {
   "cell_type": "code",
   "execution_count": 35,
   "id": "ad2006ae",
   "metadata": {},
   "outputs": [
    {
     "data": {
      "text/plain": [
       "Pipeline(steps=[('scaler', MinMaxScaler()), ('rf', RandomForestRegressor())])"
      ]
     },
     "execution_count": 35,
     "metadata": {},
     "output_type": "execute_result"
    }
   ],
   "source": [
    "from sklearn.ensemble import RandomForestRegressor\n",
    "from sklearn.preprocessing import MinMaxScaler\n",
    "from sklearn.pipeline import Pipeline\n",
    "\n",
    "# set up the pipeline\n",
    "RF_model = Pipeline([('scaler', MinMaxScaler()),\n",
    "                      ('rf', RandomForestRegressor())])\n",
    "\n",
    "RF_model.fit(X_train, y_train)"
   ]
  },
  {
   "cell_type": "markdown",
   "id": "bbcee7eb",
   "metadata": {},
   "source": [
    "#### Getting the RMSE of the predictions"
   ]
  },
  {
   "cell_type": "code",
   "execution_count": 36,
   "id": "7130eb28",
   "metadata": {},
   "outputs": [
    {
     "name": "stdout",
     "output_type": "stream",
     "text": [
      "The RF model Mean Square Error on training data is :  51.002088380319094\n",
      "The RF model RMSE on training data is  7.141574642914481\n",
      "The RF model Mean Square Error on test data is :  362.61432763213793\n",
      "The RF model RMSE on test data is  19.04243491867933\n"
     ]
    }
   ],
   "source": [
    "from sklearn.metrics import mean_squared_error\n",
    "\n",
    "# predicting on the training data\n",
    "y_train_predict = RF_model.predict(X_train)\n",
    "# predicting on the test data\n",
    "y_test_predict = RF_model.predict(X_test)\n",
    "\n",
    "MSE_train = mean_squared_error(y_train, y_train_predict)\n",
    "RMSE_train = np.sqrt(MSE_train)\n",
    "MSE_test = mean_squared_error(y_test, y_test_predict)\n",
    "RMSE_test = np.sqrt(MSE_test)\n",
    "\n",
    "print('The RF model Mean Square Error on training data is : ', MSE_train)\n",
    "print('The RF model RMSE on training data is ', RMSE_train)\n",
    "print('The RF model Mean Square Error on test data is : ', MSE_test)\n",
    "print('The RF model RMSE on test data is ', RMSE_test)"
   ]
  },
  {
   "cell_type": "markdown",
   "id": "3af70af1",
   "metadata": {},
   "source": [
    "The RMSE of the test data is much greater than the training data. This suggests overfitting."
   ]
  },
  {
   "cell_type": "markdown",
   "id": "2cfa4894",
   "metadata": {},
   "source": [
    "# Hyperparameter tuning"
   ]
  },
  {
   "cell_type": "markdown",
   "id": "c19ffc1d",
   "metadata": {},
   "source": [
    "## Creating the parameter grid and using GridSearchCV to find the best parameters"
   ]
  },
  {
   "cell_type": "code",
   "execution_count": 37,
   "id": "5487cb04",
   "metadata": {},
   "outputs": [
    {
     "data": {
      "text/plain": [
       "dict_keys(['memory', 'steps', 'verbose', 'scaler', 'rf', 'scaler__clip', 'scaler__copy', 'scaler__feature_range', 'rf__bootstrap', 'rf__ccp_alpha', 'rf__criterion', 'rf__max_depth', 'rf__max_features', 'rf__max_leaf_nodes', 'rf__max_samples', 'rf__min_impurity_decrease', 'rf__min_impurity_split', 'rf__min_samples_leaf', 'rf__min_samples_split', 'rf__min_weight_fraction_leaf', 'rf__n_estimators', 'rf__n_jobs', 'rf__oob_score', 'rf__random_state', 'rf__verbose', 'rf__warm_start'])"
      ]
     },
     "execution_count": 37,
     "metadata": {},
     "output_type": "execute_result"
    }
   ],
   "source": [
    "RF_model.get_params().keys()"
   ]
  },
  {
   "cell_type": "code",
   "execution_count": 38,
   "id": "bfc05b7f",
   "metadata": {},
   "outputs": [
    {
     "name": "stdout",
     "output_type": "stream",
     "text": [
      "Fitting 3 folds for each of 144 candidates, totalling 432 fits\n",
      "Wall time: 7min 28s\n",
      "best parameters for RF model:  {'rf__max_depth': 25, 'rf__min_samples_leaf': 1, 'rf__min_samples_split': 2, 'rf__n_estimators': 1200}\n"
     ]
    }
   ],
   "source": [
    "# Callibrating GridSearchCV for hyperparameter tuning\n",
    "from sklearn.model_selection import GridSearchCV\n",
    "\n",
    "n_estimators = [100, 500, 800, 1200]\n",
    "max_depth = [5, 10, 25, 30]\n",
    "min_samples_split = [2, 5, 10]\n",
    "min_samples_leaf = [1,2,5]\n",
    "\n",
    "param_grid = dict(rf__n_estimators = n_estimators, \n",
    "              rf__max_depth = max_depth,\n",
    "             rf__min_samples_split = min_samples_split,\n",
    "             rf__min_samples_leaf = min_samples_leaf)\n",
    "\n",
    "grid_RF = GridSearchCV(RF_model, param_grid, cv=cv_method, scoring='neg_root_mean_squared_error',verbose=2, n_jobs=-1)\n",
    "%time grid_RF.fit(X_train, y_train)\n",
    "\n",
    "print('best parameters for RF model: ', grid_RF.best_params_)"
   ]
  },
  {
   "cell_type": "markdown",
   "id": "a38c3ee2",
   "metadata": {},
   "source": [
    "#### Assigning the best parameters to the SVR model using grid.best_estimator_"
   ]
  },
  {
   "cell_type": "code",
   "execution_count": 39,
   "id": "edf276b3",
   "metadata": {},
   "outputs": [
    {
     "data": {
      "text/plain": [
       "Pipeline(steps=[('scaler', MinMaxScaler()),\n",
       "                ('rf', RandomForestRegressor(max_depth=25, n_estimators=1200))])"
      ]
     },
     "execution_count": 39,
     "metadata": {},
     "output_type": "execute_result"
    }
   ],
   "source": [
    "RF_tuned = grid_RF.best_estimator_\n",
    "RF_tuned"
   ]
  },
  {
   "cell_type": "markdown",
   "id": "32d24a58",
   "metadata": {},
   "source": [
    "#### Getting the performance of the TUNED model on the testing data"
   ]
  },
  {
   "cell_type": "code",
   "execution_count": 40,
   "id": "44f8c071",
   "metadata": {},
   "outputs": [
    {
     "name": "stdout",
     "output_type": "stream",
     "text": [
      "The TUNED Random Forest model Mean Square Error on training data is :  48.99188131416595\n",
      "The TUNED Random Forest model RMSE on training data is  6.999420069846212\n",
      "The TUNED Random Forest model Mean Square Error on test data is :  363.8676849155007\n",
      "The TUNED Random Forest model RMSE on test data is  19.075316115742375\n"
     ]
    }
   ],
   "source": [
    "# predicting on the training data\n",
    "y_tuned_train_predict = RF_tuned.predict(X_train)\n",
    "# predicting on the test data\n",
    "y_tuned_test_predict = RF_tuned.predict(X_test)\n",
    "\n",
    "MSE_tuned_train = mean_squared_error(y_train, y_tuned_train_predict)\n",
    "RMSE_tuned_train = np.sqrt(MSE_tuned_train)\n",
    "MSE_tuned_test = mean_squared_error(y_test, y_tuned_test_predict)\n",
    "RMSE_tuned_test = np.sqrt(MSE_tuned_test)\n",
    "\n",
    "print('The TUNED Random Forest model Mean Square Error on training data is : ', MSE_tuned_train)\n",
    "print('The TUNED Random Forest model RMSE on training data is ', RMSE_tuned_train)\n",
    "print('The TUNED Random Forest model Mean Square Error on test data is : ', MSE_tuned_test)\n",
    "print('The TUNED Random Forest model RMSE on test data is ', RMSE_tuned_test)"
   ]
  },
  {
   "cell_type": "markdown",
   "id": "c1c72761",
   "metadata": {},
   "source": [
    "Tuning of the model does not improve the overfitting."
   ]
  },
  {
   "cell_type": "code",
   "execution_count": 41,
   "id": "7a41457d",
   "metadata": {},
   "outputs": [
    {
     "name": "stdout",
     "output_type": "stream",
     "text": [
      "Best Cross-Validation Accuracy:  -19.136097061183932\n"
     ]
    }
   ],
   "source": [
    "print('Best Cross-Validation Accuracy: ', grid_RF.best_score_)"
   ]
  },
  {
   "cell_type": "markdown",
   "id": "22a8a309",
   "metadata": {},
   "source": [
    "## Table of performance results"
   ]
  },
  {
   "cell_type": "code",
   "execution_count": 42,
   "id": "22b55c2f",
   "metadata": {},
   "outputs": [
    {
     "name": "stdout",
     "output_type": "stream",
     "text": [
      "Model         MSE     RMSE\n",
      "--------  -------  -------\n",
      "Baseline  823.34   28.69\n",
      "Untuned   362.614  19.0424\n",
      "Tuned     363.868  19.0753\n"
     ]
    }
   ],
   "source": [
    "from tabulate import tabulate\n",
    "\n",
    "#create data\n",
    "data = [[\"Baseline\", 823.34, 28.69], \n",
    "        [\"Untuned\", MSE_test, RMSE_test],\n",
    "       [\"Tuned\", MSE_tuned_test, RMSE_tuned_test]]\n",
    "  \n",
    "#define header names\n",
    "col_names = [\"Model\", \"MSE\", \"RMSE\"]\n",
    "  \n",
    "#display table\n",
    "print(tabulate(data, headers = col_names))"
   ]
  },
  {
   "cell_type": "markdown",
   "id": "d7b085e4",
   "metadata": {},
   "source": [
    "### Plotting the predicted values against the real values"
   ]
  },
  {
   "cell_type": "code",
   "execution_count": 43,
   "id": "c31f2126",
   "metadata": {},
   "outputs": [
    {
     "data": {
      "text/plain": [
       "[]"
      ]
     },
     "execution_count": 43,
     "metadata": {},
     "output_type": "execute_result"
    },
    {
     "data": {
      "text/plain": [
       "<Figure size 2160x1080 with 0 Axes>"
      ]
     },
     "metadata": {},
     "output_type": "display_data"
    },
    {
     "data": {
      "image/png": "[encoded data removed]",
      "text/plain": [
       "<Figure size 432x288 with 1 Axes>"
      ]
     },
     "metadata": {},
     "output_type": "display_data"
    }
   ],
   "source": [
    "import matplotlib.pyplot as plt\n",
    "import seaborn as sns\n",
    "sns.set()\n",
    "\n",
    "plt.figure(figsize=(30,15))\n",
    "\n",
    "cancer_df['predicted'] = RF_tuned.predict(X)\n",
    "cancer_df[['TARGET_deathRate', 'predicted']].plot(alpha=0.5)\n",
    "\n",
    "plt.plot()"
   ]
  },
  {
   "cell_type": "markdown",
   "id": "61989f84",
   "metadata": {},
   "source": [
    "This model has not been saved as it is not the best model."
   ]
  }
 ],
 "metadata": {
  "kernelspec": {
   "display_name": "Python 3",
   "language": "python",
   "name": "python3"
  },
  "language_info": {
   "codemirror_mode": {
    "name": "ipython",
    "version": 3
   },
   "file_extension": ".py",
   "mimetype": "text/x-python",
   "name": "python",
   "nbconvert_exporter": "python",
   "pygments_lexer": "ipython3",
   "version": "3.8.8"
  }
 },
 "nbformat": 4,
 "nbformat_minor": 5
}
