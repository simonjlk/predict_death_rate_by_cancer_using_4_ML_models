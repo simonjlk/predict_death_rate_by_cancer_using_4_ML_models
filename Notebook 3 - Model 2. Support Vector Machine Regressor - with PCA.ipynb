{
 "cells": [
  {
   "cell_type": "markdown",
   "id": "c82379c5",
   "metadata": {},
   "source": [
    "# Notebook 3 - Model 2. Support Vector Machine Regressor\n",
    "\n",
    "## PCA after initial hyperparameter tuning \n",
    "\n",
    "## Simon Kennedy a1792695"
   ]
  },
  {
   "cell_type": "markdown",
   "id": "00faed53",
   "metadata": {},
   "source": [
    "## Loading the dataset\n",
    "\n",
    "#### Loading the previously cleaned dataset and checking that it loaded correctly"
   ]
  },
  {
   "cell_type": "code",
   "execution_count": 1,
   "id": "41108525",
   "metadata": {},
   "outputs": [
    {
     "data": {
      "text/html": [
       "<div>\n",
       "<style scoped>\n",
       "    .dataframe tbody tr th:only-of-type {\n",
       "        vertical-align: middle;\n",
       "    }\n",
       "\n",
       "    .dataframe tbody tr th {\n",
       "        vertical-align: top;\n",
       "    }\n",
       "\n",
       "    .dataframe thead th {\n",
       "        text-align: right;\n",
       "    }\n",
       "</style>\n",
       "<table border=\"1\" class=\"dataframe\">\n",
       "  <thead>\n",
       "    <tr style=\"text-align: right;\">\n",
       "      <th></th>\n",
       "      <th>avgAnnCount</th>\n",
       "      <th>TARGET_deathRate</th>\n",
       "      <th>incidenceRate</th>\n",
       "      <th>povertyPercent</th>\n",
       "      <th>studyPerCap</th>\n",
       "      <th>binnedInc</th>\n",
       "      <th>MedianAgeMale</th>\n",
       "      <th>MedianAgeFemale</th>\n",
       "      <th>AvgHouseholdSize</th>\n",
       "      <th>PercentMarried</th>\n",
       "      <th>...</th>\n",
       "      <th>PctPrivateCoverage</th>\n",
       "      <th>PctPublicCoverage</th>\n",
       "      <th>PctPublicCoverageAlone</th>\n",
       "      <th>PctWhite</th>\n",
       "      <th>PctBlack</th>\n",
       "      <th>PctAsian</th>\n",
       "      <th>PctOtherRace</th>\n",
       "      <th>PctMarriedHouseholds</th>\n",
       "      <th>BirthRate</th>\n",
       "      <th>State</th>\n",
       "    </tr>\n",
       "  </thead>\n",
       "  <tbody>\n",
       "    <tr>\n",
       "      <th>0</th>\n",
       "      <td>1397.0</td>\n",
       "      <td>164.9</td>\n",
       "      <td>489.8</td>\n",
       "      <td>11.2</td>\n",
       "      <td>499.748204</td>\n",
       "      <td>10</td>\n",
       "      <td>36.9</td>\n",
       "      <td>41.7</td>\n",
       "      <td>2.54</td>\n",
       "      <td>52.5</td>\n",
       "      <td>...</td>\n",
       "      <td>75.1</td>\n",
       "      <td>32.9</td>\n",
       "      <td>14.0</td>\n",
       "      <td>81.780529</td>\n",
       "      <td>2.594728</td>\n",
       "      <td>4.821857</td>\n",
       "      <td>1.843479</td>\n",
       "      <td>52.856076</td>\n",
       "      <td>6.118831</td>\n",
       "      <td>47</td>\n",
       "    </tr>\n",
       "    <tr>\n",
       "      <th>1</th>\n",
       "      <td>173.0</td>\n",
       "      <td>161.3</td>\n",
       "      <td>411.6</td>\n",
       "      <td>18.6</td>\n",
       "      <td>23.111234</td>\n",
       "      <td>7</td>\n",
       "      <td>32.2</td>\n",
       "      <td>33.7</td>\n",
       "      <td>2.34</td>\n",
       "      <td>44.5</td>\n",
       "      <td>...</td>\n",
       "      <td>70.2</td>\n",
       "      <td>31.1</td>\n",
       "      <td>15.3</td>\n",
       "      <td>89.228509</td>\n",
       "      <td>0.969102</td>\n",
       "      <td>2.246233</td>\n",
       "      <td>3.741352</td>\n",
       "      <td>45.372500</td>\n",
       "      <td>4.333096</td>\n",
       "      <td>47</td>\n",
       "    </tr>\n",
       "    <tr>\n",
       "      <th>2</th>\n",
       "      <td>102.0</td>\n",
       "      <td>174.7</td>\n",
       "      <td>349.7</td>\n",
       "      <td>14.6</td>\n",
       "      <td>47.560164</td>\n",
       "      <td>7</td>\n",
       "      <td>44.0</td>\n",
       "      <td>45.8</td>\n",
       "      <td>2.62</td>\n",
       "      <td>54.2</td>\n",
       "      <td>...</td>\n",
       "      <td>63.7</td>\n",
       "      <td>42.1</td>\n",
       "      <td>21.1</td>\n",
       "      <td>90.922190</td>\n",
       "      <td>0.739673</td>\n",
       "      <td>0.465898</td>\n",
       "      <td>2.747358</td>\n",
       "      <td>54.444868</td>\n",
       "      <td>3.729488</td>\n",
       "      <td>47</td>\n",
       "    </tr>\n",
       "    <tr>\n",
       "      <th>3</th>\n",
       "      <td>427.0</td>\n",
       "      <td>194.8</td>\n",
       "      <td>430.4</td>\n",
       "      <td>17.1</td>\n",
       "      <td>342.637253</td>\n",
       "      <td>5</td>\n",
       "      <td>42.2</td>\n",
       "      <td>43.4</td>\n",
       "      <td>2.52</td>\n",
       "      <td>52.7</td>\n",
       "      <td>...</td>\n",
       "      <td>58.4</td>\n",
       "      <td>45.3</td>\n",
       "      <td>25.0</td>\n",
       "      <td>91.744686</td>\n",
       "      <td>0.782626</td>\n",
       "      <td>1.161359</td>\n",
       "      <td>1.362643</td>\n",
       "      <td>51.021514</td>\n",
       "      <td>4.603841</td>\n",
       "      <td>47</td>\n",
       "    </tr>\n",
       "    <tr>\n",
       "      <th>4</th>\n",
       "      <td>57.0</td>\n",
       "      <td>144.4</td>\n",
       "      <td>350.1</td>\n",
       "      <td>12.5</td>\n",
       "      <td>0.000000</td>\n",
       "      <td>7</td>\n",
       "      <td>47.8</td>\n",
       "      <td>48.9</td>\n",
       "      <td>2.34</td>\n",
       "      <td>57.8</td>\n",
       "      <td>...</td>\n",
       "      <td>61.6</td>\n",
       "      <td>44.0</td>\n",
       "      <td>22.7</td>\n",
       "      <td>94.104024</td>\n",
       "      <td>0.270192</td>\n",
       "      <td>0.665830</td>\n",
       "      <td>0.492135</td>\n",
       "      <td>54.027460</td>\n",
       "      <td>6.796657</td>\n",
       "      <td>47</td>\n",
       "    </tr>\n",
       "  </tbody>\n",
       "</table>\n",
       "<p>5 rows × 27 columns</p>\n",
       "</div>"
      ],
      "text/plain": [
       "   avgAnnCount  TARGET_deathRate  incidenceRate  povertyPercent  studyPerCap  \\\n",
       "0       1397.0             164.9          489.8            11.2   499.748204   \n",
       "1        173.0             161.3          411.6            18.6    23.111234   \n",
       "2        102.0             174.7          349.7            14.6    47.560164   \n",
       "3        427.0             194.8          430.4            17.1   342.637253   \n",
       "4         57.0             144.4          350.1            12.5     0.000000   \n",
       "\n",
       "   binnedInc  MedianAgeMale  MedianAgeFemale  AvgHouseholdSize  \\\n",
       "0         10           36.9             41.7              2.54   \n",
       "1          7           32.2             33.7              2.34   \n",
       "2          7           44.0             45.8              2.62   \n",
       "3          5           42.2             43.4              2.52   \n",
       "4          7           47.8             48.9              2.34   \n",
       "\n",
       "   PercentMarried  ...  PctPrivateCoverage  PctPublicCoverage  \\\n",
       "0            52.5  ...                75.1               32.9   \n",
       "1            44.5  ...                70.2               31.1   \n",
       "2            54.2  ...                63.7               42.1   \n",
       "3            52.7  ...                58.4               45.3   \n",
       "4            57.8  ...                61.6               44.0   \n",
       "\n",
       "   PctPublicCoverageAlone   PctWhite  PctBlack  PctAsian  PctOtherRace  \\\n",
       "0                    14.0  81.780529  2.594728  4.821857      1.843479   \n",
       "1                    15.3  89.228509  0.969102  2.246233      3.741352   \n",
       "2                    21.1  90.922190  0.739673  0.465898      2.747358   \n",
       "3                    25.0  91.744686  0.782626  1.161359      1.362643   \n",
       "4                    22.7  94.104024  0.270192  0.665830      0.492135   \n",
       "\n",
       "   PctMarriedHouseholds  BirthRate  State  \n",
       "0             52.856076   6.118831     47  \n",
       "1             45.372500   4.333096     47  \n",
       "2             54.444868   3.729488     47  \n",
       "3             51.021514   4.603841     47  \n",
       "4             54.027460   6.796657     47  \n",
       "\n",
       "[5 rows x 27 columns]"
      ]
     },
     "execution_count": 1,
     "metadata": {},
     "output_type": "execute_result"
    }
   ],
   "source": [
    "import numpy as np\n",
    "import pandas as pd\n",
    "\n",
    "cancer_df = pd.DataFrame(pd.read_csv(\"cancer_clean.csv\"))\n",
    "cancer_df.head()"
   ]
  },
  {
   "cell_type": "markdown",
   "id": "d963340e",
   "metadata": {},
   "source": [
    "## Splitting the dataset into Training and Tesing data"
   ]
  },
  {
   "cell_type": "markdown",
   "id": "fa8a8ed8",
   "metadata": {},
   "source": [
    "### Data Segregation"
   ]
  },
  {
   "cell_type": "code",
   "execution_count": 2,
   "id": "076b31de",
   "metadata": {},
   "outputs": [
    {
     "data": {
      "text/plain": [
       "((3009, 26), (3009,))"
      ]
     },
     "execution_count": 2,
     "metadata": {},
     "output_type": "execute_result"
    }
   ],
   "source": [
    "X = cancer_df.drop(columns = ['TARGET_deathRate'])\n",
    "y = cancer_df['TARGET_deathRate']\n",
    "\n",
    "X.shape, y.shape"
   ]
  },
  {
   "cell_type": "code",
   "execution_count": 3,
   "id": "4032fc44",
   "metadata": {},
   "outputs": [
    {
     "name": "stdout",
     "output_type": "stream",
     "text": [
      "(2256, 26)\n",
      "(753, 26)\n"
     ]
    }
   ],
   "source": [
    "from sklearn.model_selection import train_test_split\n",
    "\n",
    "X_train, X_test, y_train, y_test = train_test_split(X,y, random_state = 42)\n",
    "# test_size is default 0.25 if train_size also none. i.e. train = 0.75, test = 0.25\n",
    "# defining a seed to get the same split in the data\n",
    "print(X_train.shape)\n",
    "print(X_test.shape)"
   ]
  },
  {
   "cell_type": "markdown",
   "id": "ed75e907",
   "metadata": {},
   "source": [
    "## k fold cross-validation to split the data"
   ]
  },
  {
   "cell_type": "code",
   "execution_count": 4,
   "id": "e90f5ca9",
   "metadata": {},
   "outputs": [
    {
     "name": "stdout",
     "output_type": "stream",
     "text": [
      "First five train index: [1003 1004 1005 1006 1007] First five test index: [0 1 2 3 4]\n",
      "Shape of the Training set: (2006,) Shape of the Test set: (1003,) \n",
      "\n",
      "First five train index: [0 1 2 3 4] First five test index: [1003 1004 1005 1006 1007]\n",
      "Shape of the Training set: (2006,) Shape of the Test set: (1003,) \n",
      "\n",
      "First five train index: [0 1 2 3 4] First five test index: [2006 2007 2008 2009 2010]\n",
      "Shape of the Training set: (2006,) Shape of the Test set: (1003,) \n",
      "\n"
     ]
    }
   ],
   "source": [
    "# Creating the K-Fold ojbect\n",
    "from sklearn.model_selection import KFold\n",
    "cv_method = KFold(n_splits = 3)\n",
    "\n",
    "# Performing the K-Fold Cross-Validation\n",
    "for train_index, test_index in cv_method.split(cancer_df):\n",
    "    \n",
    "    # Obtaining the index for the training and test sets for the subset\n",
    "    print(\"First five train index:\", train_index[0:5], \"First five test index:\", test_index[0:5])\n",
    "    print('Shape of the Training set:', train_index.shape, 'Shape of the Test set:',test_index.shape, '\\n')"
   ]
  },
  {
   "cell_type": "markdown",
   "id": "fdfd6a2d",
   "metadata": {},
   "source": [
    "# Data Modeling"
   ]
  },
  {
   "cell_type": "markdown",
   "id": "09f34cda",
   "metadata": {},
   "source": [
    "### Model 2. Support Vector Machine Regression"
   ]
  },
  {
   "cell_type": "markdown",
   "id": "fc5ed4ae",
   "metadata": {},
   "source": [
    "### Defining the model with scaling and fitting the model"
   ]
  },
  {
   "cell_type": "code",
   "execution_count": 5,
   "id": "1f08067b",
   "metadata": {},
   "outputs": [
    {
     "data": {
      "text/plain": [
       "Pipeline(steps=[('scaler', MinMaxScaler()), ('svr', SVR())])"
      ]
     },
     "execution_count": 5,
     "metadata": {},
     "output_type": "execute_result"
    }
   ],
   "source": [
    "from sklearn.svm import SVR\n",
    "from sklearn.preprocessing import MinMaxScaler\n",
    "from sklearn.pipeline import Pipeline\n",
    "\n",
    "# set up the pipeline\n",
    "svr_model = Pipeline([('scaler', MinMaxScaler()),\n",
    "                      ('svr', SVR())]) # default kernel is 'rbf'\n",
    "# fit the model\n",
    "svr_model.fit(X_train, y_train)"
   ]
  },
  {
   "cell_type": "markdown",
   "id": "bbcee7eb",
   "metadata": {},
   "source": [
    "#### Getting the RMSE of the predictions"
   ]
  },
  {
   "cell_type": "code",
   "execution_count": 6,
   "id": "0ba87cd7",
   "metadata": {},
   "outputs": [
    {
     "name": "stdout",
     "output_type": "stream",
     "text": [
      "The SVR model Mean Square Error on training data is :  458.6390500780547\n",
      "The SVR model RMSE on training data is  21.41585977909957\n",
      "The SVR model Mean Square Error on test data is :  528.9809048534449\n",
      "The SVR model RMSE on test data is  22.99958488437226\n"
     ]
    }
   ],
   "source": [
    "from sklearn.metrics import mean_squared_error\n",
    "\n",
    "# predicting on the training data\n",
    "y_train_predict = svr_model.predict(X_train)\n",
    "# predicting on the test data\n",
    "y_test_predict = svr_model.predict(X_test)\n",
    "\n",
    "MSE_train = mean_squared_error(y_train, y_train_predict)\n",
    "RMSE_train = np.sqrt(MSE_train)\n",
    "MSE_test = mean_squared_error(y_test, y_test_predict)\n",
    "RMSE_test = np.sqrt(MSE_test)\n",
    "\n",
    "print('The SVR model Mean Square Error on training data is : ', MSE_train)\n",
    "print('The SVR model RMSE on training data is ', RMSE_train)\n",
    "print('The SVR model Mean Square Error on test data is : ', MSE_test)\n",
    "print('The SVR model RMSE on test data is ', RMSE_test)"
   ]
  },
  {
   "cell_type": "markdown",
   "id": "30031c82",
   "metadata": {},
   "source": [
    "The RMSE of the test data is slightly greater than on the training data as expected which gives some indication that the model is not overfitted."
   ]
  },
  {
   "cell_type": "markdown",
   "id": "0b44a08d",
   "metadata": {},
   "source": [
    "# Hyperparameter tuning"
   ]
  },
  {
   "cell_type": "markdown",
   "id": "c5358695",
   "metadata": {},
   "source": [
    "### Creating the parameter grid and using GridSearchCV( ) with K Fold cross validation splits to find the best parameters"
   ]
  },
  {
   "cell_type": "code",
   "execution_count": 7,
   "id": "f6c99f94",
   "metadata": {},
   "outputs": [
    {
     "name": "stdout",
     "output_type": "stream",
     "text": [
      "Fitting 3 folds for each of 300 candidates, totalling 900 fits\n",
      "Wall time: 12min 21s\n",
      "Best parameters for SVR_linear {'svr__C': 100, 'svr__epsilon': 1.0, 'svr__gamma': 'scale', 'svr__kernel': 'rbf'}\n"
     ]
    }
   ],
   "source": [
    "from sklearn.model_selection import GridSearchCV\n",
    " \n",
    "param_grid = {'svr__kernel': ['linear', 'rbf','sigmoid','poly'], # tuning for the best kernel\n",
    "              'svr__C': [1, 10, 100, 1000, 10000],\n",
    "              'svr__epsilon': [0.01, 0.1, 1.0],\n",
    "              'svr__gamma': ['scale', 0.5, 0.1, 0.05, 0.01]}\n",
    "\n",
    "#Searching for the optimal from param_grid\n",
    "gridSVR = GridSearchCV(svr_model, param_grid, cv=cv_method, scoring='neg_root_mean_squared_error', verbose = 2, n_jobs= -1)\n",
    "\n",
    "%time gridSVR.fit(X_train, y_train)\n",
    "print('Best parameters for SVR_linear', gridSVR.best_params_)"
   ]
  },
  {
   "cell_type": "markdown",
   "id": "25e419b4",
   "metadata": {},
   "source": [
    "#### Assigning the best parameters to the SVR linear TUNED model using grid.best_estimator_"
   ]
  },
  {
   "cell_type": "code",
   "execution_count": 8,
   "id": "58ae64a6",
   "metadata": {},
   "outputs": [
    {
     "data": {
      "text/plain": [
       "Pipeline(steps=[('scaler', MinMaxScaler()), ('svr', SVR(C=100, epsilon=1.0))])"
      ]
     },
     "execution_count": 8,
     "metadata": {},
     "output_type": "execute_result"
    }
   ],
   "source": [
    "svr_tuned = gridSVR.best_estimator_\n",
    "svr_tuned"
   ]
  },
  {
   "cell_type": "markdown",
   "id": "27f7fc9c",
   "metadata": {},
   "source": [
    "#### Getting the performance of the TUNED model on the training and testing data"
   ]
  },
  {
   "cell_type": "code",
   "execution_count": 9,
   "id": "14f3b46b",
   "metadata": {},
   "outputs": [
    {
     "name": "stdout",
     "output_type": "stream",
     "text": [
      "The TUNED svr model Mean Square Error on training data is :  274.584682098302\n",
      "The TUNED svr model RMSE on training data is  16.570596914363165\n",
      "The TUNED svr model Mean Square Error on test data is :  348.64215756933305\n",
      "The TUNED svr model RMSE on test data is  18.67196180291008\n"
     ]
    }
   ],
   "source": [
    "# predicting on the training data\n",
    "y_tuned_train_predict = svr_tuned.predict(X_train)\n",
    "# predicting on the test data\n",
    "y_tuned_test_predict = svr_tuned.predict(X_test)\n",
    "\n",
    "MSE_tuned_train = mean_squared_error(y_train, y_tuned_train_predict)\n",
    "RMSE_tuned_train = np.sqrt(MSE_tuned_train)\n",
    "MSE_tuned_test = mean_squared_error(y_test, y_tuned_test_predict)\n",
    "RMSE_tuned_test = np.sqrt(MSE_tuned_test)\n",
    "\n",
    "print('The TUNED svr model Mean Square Error on training data is : ', MSE_tuned_train)\n",
    "print('The TUNED svr model RMSE on training data is ', RMSE_tuned_train)\n",
    "print('The TUNED svr model Mean Square Error on test data is : ', MSE_tuned_test)\n",
    "print('The TUNED svr model RMSE on test data is ', RMSE_tuned_test)"
   ]
  },
  {
   "cell_type": "markdown",
   "id": "736ecdb1",
   "metadata": {},
   "source": [
    "The RMSE of the test data is 12.6% greater than on the training data which gives some indication that the model may have some over or under fitting."
   ]
  },
  {
   "cell_type": "code",
   "execution_count": 10,
   "id": "6f4c8fa1",
   "metadata": {},
   "outputs": [
    {
     "name": "stdout",
     "output_type": "stream",
     "text": [
      "Best Cross-Validation Accuracy:  -19.146733989922033\n"
     ]
    }
   ],
   "source": [
    "print('Best Cross-Validation Accuracy: ',gridSVR.best_score_)"
   ]
  },
  {
   "cell_type": "code",
   "execution_count": 11,
   "id": "48b52b82",
   "metadata": {},
   "outputs": [
    {
     "data": {
      "text/html": [
       "<div>\n",
       "<style scoped>\n",
       "    .dataframe tbody tr th:only-of-type {\n",
       "        vertical-align: middle;\n",
       "    }\n",
       "\n",
       "    .dataframe tbody tr th {\n",
       "        vertical-align: top;\n",
       "    }\n",
       "\n",
       "    .dataframe thead th {\n",
       "        text-align: right;\n",
       "    }\n",
       "</style>\n",
       "<table border=\"1\" class=\"dataframe\">\n",
       "  <thead>\n",
       "    <tr style=\"text-align: right;\">\n",
       "      <th></th>\n",
       "      <th>rank_test_score</th>\n",
       "      <th>param_svr__C</th>\n",
       "      <th>param_svr__epsilon</th>\n",
       "      <th>param_svr__gamma</th>\n",
       "      <th>param_svr__kernel</th>\n",
       "      <th>mean_test_score</th>\n",
       "      <th>std_test_score</th>\n",
       "    </tr>\n",
       "  </thead>\n",
       "  <tbody>\n",
       "    <tr>\n",
       "      <th>161</th>\n",
       "      <td>1</td>\n",
       "      <td>100</td>\n",
       "      <td>1.0</td>\n",
       "      <td>scale</td>\n",
       "      <td>rbf</td>\n",
       "      <td>-19.146734</td>\n",
       "      <td>0.583800</td>\n",
       "    </tr>\n",
       "    <tr>\n",
       "      <th>165</th>\n",
       "      <td>2</td>\n",
       "      <td>100</td>\n",
       "      <td>1.0</td>\n",
       "      <td>0.5</td>\n",
       "      <td>rbf</td>\n",
       "      <td>-19.163720</td>\n",
       "      <td>0.574205</td>\n",
       "    </tr>\n",
       "    <tr>\n",
       "      <th>141</th>\n",
       "      <td>3</td>\n",
       "      <td>100</td>\n",
       "      <td>0.1</td>\n",
       "      <td>scale</td>\n",
       "      <td>rbf</td>\n",
       "      <td>-19.169852</td>\n",
       "      <td>0.589193</td>\n",
       "    </tr>\n",
       "    <tr>\n",
       "      <th>121</th>\n",
       "      <td>4</td>\n",
       "      <td>100</td>\n",
       "      <td>0.01</td>\n",
       "      <td>scale</td>\n",
       "      <td>rbf</td>\n",
       "      <td>-19.172775</td>\n",
       "      <td>0.589501</td>\n",
       "    </tr>\n",
       "    <tr>\n",
       "      <th>125</th>\n",
       "      <td>5</td>\n",
       "      <td>100</td>\n",
       "      <td>0.01</td>\n",
       "      <td>0.5</td>\n",
       "      <td>rbf</td>\n",
       "      <td>-19.177108</td>\n",
       "      <td>0.596045</td>\n",
       "    </tr>\n",
       "  </tbody>\n",
       "</table>\n",
       "</div>"
      ],
      "text/plain": [
       "     rank_test_score param_svr__C param_svr__epsilon param_svr__gamma  \\\n",
       "161                1          100                1.0            scale   \n",
       "165                2          100                1.0              0.5   \n",
       "141                3          100                0.1            scale   \n",
       "121                4          100               0.01            scale   \n",
       "125                5          100               0.01              0.5   \n",
       "\n",
       "    param_svr__kernel  mean_test_score  std_test_score  \n",
       "161               rbf       -19.146734        0.583800  \n",
       "165               rbf       -19.163720        0.574205  \n",
       "141               rbf       -19.169852        0.589193  \n",
       "121               rbf       -19.172775        0.589501  \n",
       "125               rbf       -19.177108        0.596045  "
      ]
     },
     "execution_count": 11,
     "metadata": {},
     "output_type": "execute_result"
    }
   ],
   "source": [
    "# Top 5 GridsearchCV results\n",
    "import pandas as pd\n",
    "svr_tuned_cv_results = pd.DataFrame(gridSVR.cv_results_)\n",
    "svr_tuned_cv_results = svr_tuned_cv_results[['rank_test_score','param_svr__C','param_svr__epsilon', 'param_svr__gamma','param_svr__kernel','mean_test_score', 'std_test_score']]\n",
    "svr_tuned_cv_results.sort_values(by='rank_test_score').head()"
   ]
  },
  {
   "cell_type": "markdown",
   "id": "3b62bb20",
   "metadata": {},
   "source": [
    "## Hyperparameter tuning with PCA"
   ]
  },
  {
   "cell_type": "code",
   "execution_count": 14,
   "id": "8c7d8c54",
   "metadata": {},
   "outputs": [
    {
     "name": "stdout",
     "output_type": "stream",
     "text": [
      "Fitting 3 folds for each of 300 candidates, totalling 900 fits\n",
      "Wall time: 45.8 s\n",
      "Best parameters for SVR_linear {'pca': PCA(n_components=26), 'svr__C': 100, 'svr__epsilon': 1.0, 'svr__gamma': 0.5}\n"
     ]
    }
   ],
   "source": [
    "from sklearn.decomposition import PCA\n",
    "\n",
    "# set up the pipeline\n",
    "svr_pca = Pipeline([('scaler', MinMaxScaler()),\n",
    "                       ('pca', PCA()),\n",
    "                      ('svr', SVR(kernel='rbf'))])\n",
    "\n",
    "param_grid = {'svr__C': [1, 10, 100, 1000],\n",
    "              'svr__epsilon': [0.01, 0.1, 1.0],\n",
    "              'svr__gamma': ['scale', 0.5, 0.1, 0.05, 0.01],\n",
    "             'pca': [PCA(10), PCA(12), PCA(15), PCA(20), PCA(26)]}\n",
    "\n",
    "#Searching for the optimal from param_grid\n",
    "gridSVR_pca = GridSearchCV(svr_pca, param_grid, cv=cv_method, verbose = 2, n_jobs= -1)\n",
    "\n",
    "%time gridSVR_pca.fit(X_train, y_train)\n",
    "print('Best parameters for SVR_linear', gridSVR_pca.best_params_)"
   ]
  },
  {
   "cell_type": "markdown",
   "id": "76217b94",
   "metadata": {},
   "source": [
    "#### Assigning the best parameters including PCA"
   ]
  },
  {
   "cell_type": "code",
   "execution_count": 15,
   "id": "824fedf9",
   "metadata": {},
   "outputs": [
    {
     "data": {
      "text/plain": [
       "Pipeline(steps=[('scaler', MinMaxScaler()), ('pca', PCA(n_components=26)),\n",
       "                ('svr', SVR(C=100, epsilon=1.0, gamma=0.5))])"
      ]
     },
     "execution_count": 15,
     "metadata": {},
     "output_type": "execute_result"
    }
   ],
   "source": [
    "svr_tuned_pca = gridSVR_pca.best_estimator_\n",
    "svr_tuned_pca"
   ]
  },
  {
   "cell_type": "code",
   "execution_count": 16,
   "id": "2adc9784",
   "metadata": {},
   "outputs": [
    {
     "name": "stdout",
     "output_type": "stream",
     "text": [
      "The svr TUNED with PCA model MSE is  345.0674901897284\n",
      "The svr TUNED with PCA model RMSE is  18.575992307000142\n"
     ]
    }
   ],
   "source": [
    "# predicting on the test data\n",
    "y_tuned_pca_predict = svr_tuned_pca.predict(X_test)\n",
    "\n",
    "MSE_tuned_pca = mean_squared_error(y_test, y_tuned_pca_predict)\n",
    "RMSE_tuned_pca = np.sqrt(mean_squared_error(y_test, y_tuned_pca_predict))\n",
    "\n",
    "print('The svr TUNED with PCA model MSE is ', MSE_tuned_pca)\n",
    "print('The svr TUNED with PCA model RMSE is ', RMSE_tuned_pca)"
   ]
  },
  {
   "cell_type": "markdown",
   "id": "fbe038e1",
   "metadata": {},
   "source": [
    "### Table of performance results on testing data"
   ]
  },
  {
   "cell_type": "code",
   "execution_count": 17,
   "id": "1b9a301a",
   "metadata": {},
   "outputs": [
    {
     "name": "stdout",
     "output_type": "stream",
     "text": [
      "Model            MSE     RMSE\n",
      "-----------  -------  -------\n",
      "Baseline     823.34   28.69\n",
      "Untuned      528.981  22.9996\n",
      "Tuned        348.642  18.672\n",
      "Tuned + PCA  345.067  18.576\n"
     ]
    }
   ],
   "source": [
    "from tabulate import tabulate\n",
    "\n",
    "#create data\n",
    "data = [[\"Baseline\", 823.34, 28.69], \n",
    "        [\"Untuned\", MSE_test, RMSE_test],\n",
    "       [\"Tuned\", MSE_tuned_test, RMSE_tuned_test],\n",
    "       [\"Tuned + PCA\", MSE_tuned_pca, RMSE_tuned_pca]]\n",
    "  \n",
    "#define header names\n",
    "col_names = [\"Model\", \"MSE\", \"RMSE\"]\n",
    "  \n",
    "#display table\n",
    "print(tabulate(data, headers = col_names))"
   ]
  },
  {
   "cell_type": "markdown",
   "id": "b819c544",
   "metadata": {},
   "source": [
    "#### Plotting the predicted values from the tuned SVR model against the real values"
   ]
  },
  {
   "cell_type": "code",
   "execution_count": 16,
   "id": "5e531b27",
   "metadata": {},
   "outputs": [
    {
     "data": {
      "text/plain": [
       "[]"
      ]
     },
     "execution_count": 16,
     "metadata": {},
     "output_type": "execute_result"
    },
    {
     "data": {
      "image/png": "[encoded data removed]",
      "text/plain": [
       "<Figure size 432x288 with 1 Axes>"
      ]
     },
     "metadata": {},
     "output_type": "display_data"
    }
   ],
   "source": [
    "import matplotlib.pyplot as plt\n",
    "import seaborn as sns\n",
    "sns.set()\n",
    "\n",
    "cancer_df['predicted'] = svr_tuned.predict(X)\n",
    "cancer_df[['TARGET_deathRate', 'predicted']].plot(alpha=0.5)\n",
    "\n",
    "plt.plot()"
   ]
  },
  {
   "cell_type": "markdown",
   "id": "76189470",
   "metadata": {},
   "source": [
    "This model has not been saved as it is not the best model."
   ]
  }
 ],
 "metadata": {
  "kernelspec": {
   "display_name": "Python 3",
   "language": "python",
   "name": "python3"
  },
  "language_info": {
   "codemirror_mode": {
    "name": "ipython",
    "version": 3
   },
   "file_extension": ".py",
   "mimetype": "text/x-python",
   "name": "python",
   "nbconvert_exporter": "python",
   "pygments_lexer": "ipython3",
   "version": "3.8.8"
  }
 },
 "nbformat": 4,
 "nbformat_minor": 5
}
