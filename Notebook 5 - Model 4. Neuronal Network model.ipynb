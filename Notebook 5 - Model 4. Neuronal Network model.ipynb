{
 "cells": [
  {
   "cell_type": "markdown",
   "id": "51fc1404",
   "metadata": {},
   "source": [
    "# Notebook 5 - Model 4. Neuronal Network Regression \n",
    "\n",
    "## Simon Kennedy a1792695"
   ]
  },
  {
   "cell_type": "markdown",
   "id": "40b8a841",
   "metadata": {},
   "source": [
    "## Loading the clean and preprocessed dataset"
   ]
  },
  {
   "cell_type": "code",
   "execution_count": 1,
   "id": "41108525",
   "metadata": {},
   "outputs": [
    {
     "data": {
      "text/html": [
       "<div>\n",
       "<style scoped>\n",
       "    .dataframe tbody tr th:only-of-type {\n",
       "        vertical-align: middle;\n",
       "    }\n",
       "\n",
       "    .dataframe tbody tr th {\n",
       "        vertical-align: top;\n",
       "    }\n",
       "\n",
       "    .dataframe thead th {\n",
       "        text-align: right;\n",
       "    }\n",
       "</style>\n",
       "<table border=\"1\" class=\"dataframe\">\n",
       "  <thead>\n",
       "    <tr style=\"text-align: right;\">\n",
       "      <th></th>\n",
       "      <th>avgAnnCount</th>\n",
       "      <th>TARGET_deathRate</th>\n",
       "      <th>incidenceRate</th>\n",
       "      <th>povertyPercent</th>\n",
       "      <th>studyPerCap</th>\n",
       "      <th>binnedInc</th>\n",
       "      <th>MedianAgeMale</th>\n",
       "      <th>MedianAgeFemale</th>\n",
       "      <th>AvgHouseholdSize</th>\n",
       "      <th>PercentMarried</th>\n",
       "      <th>...</th>\n",
       "      <th>PctPrivateCoverage</th>\n",
       "      <th>PctPublicCoverage</th>\n",
       "      <th>PctPublicCoverageAlone</th>\n",
       "      <th>PctWhite</th>\n",
       "      <th>PctBlack</th>\n",
       "      <th>PctAsian</th>\n",
       "      <th>PctOtherRace</th>\n",
       "      <th>PctMarriedHouseholds</th>\n",
       "      <th>BirthRate</th>\n",
       "      <th>State</th>\n",
       "    </tr>\n",
       "  </thead>\n",
       "  <tbody>\n",
       "    <tr>\n",
       "      <th>0</th>\n",
       "      <td>1397.0</td>\n",
       "      <td>164.9</td>\n",
       "      <td>489.8</td>\n",
       "      <td>11.2</td>\n",
       "      <td>499.748204</td>\n",
       "      <td>10</td>\n",
       "      <td>36.9</td>\n",
       "      <td>41.7</td>\n",
       "      <td>2.54</td>\n",
       "      <td>52.5</td>\n",
       "      <td>...</td>\n",
       "      <td>75.1</td>\n",
       "      <td>32.9</td>\n",
       "      <td>14.0</td>\n",
       "      <td>81.780529</td>\n",
       "      <td>2.594728</td>\n",
       "      <td>4.821857</td>\n",
       "      <td>1.843479</td>\n",
       "      <td>52.856076</td>\n",
       "      <td>6.118831</td>\n",
       "      <td>47</td>\n",
       "    </tr>\n",
       "    <tr>\n",
       "      <th>1</th>\n",
       "      <td>173.0</td>\n",
       "      <td>161.3</td>\n",
       "      <td>411.6</td>\n",
       "      <td>18.6</td>\n",
       "      <td>23.111234</td>\n",
       "      <td>7</td>\n",
       "      <td>32.2</td>\n",
       "      <td>33.7</td>\n",
       "      <td>2.34</td>\n",
       "      <td>44.5</td>\n",
       "      <td>...</td>\n",
       "      <td>70.2</td>\n",
       "      <td>31.1</td>\n",
       "      <td>15.3</td>\n",
       "      <td>89.228509</td>\n",
       "      <td>0.969102</td>\n",
       "      <td>2.246233</td>\n",
       "      <td>3.741352</td>\n",
       "      <td>45.372500</td>\n",
       "      <td>4.333096</td>\n",
       "      <td>47</td>\n",
       "    </tr>\n",
       "    <tr>\n",
       "      <th>2</th>\n",
       "      <td>102.0</td>\n",
       "      <td>174.7</td>\n",
       "      <td>349.7</td>\n",
       "      <td>14.6</td>\n",
       "      <td>47.560164</td>\n",
       "      <td>7</td>\n",
       "      <td>44.0</td>\n",
       "      <td>45.8</td>\n",
       "      <td>2.62</td>\n",
       "      <td>54.2</td>\n",
       "      <td>...</td>\n",
       "      <td>63.7</td>\n",
       "      <td>42.1</td>\n",
       "      <td>21.1</td>\n",
       "      <td>90.922190</td>\n",
       "      <td>0.739673</td>\n",
       "      <td>0.465898</td>\n",
       "      <td>2.747358</td>\n",
       "      <td>54.444868</td>\n",
       "      <td>3.729488</td>\n",
       "      <td>47</td>\n",
       "    </tr>\n",
       "    <tr>\n",
       "      <th>3</th>\n",
       "      <td>427.0</td>\n",
       "      <td>194.8</td>\n",
       "      <td>430.4</td>\n",
       "      <td>17.1</td>\n",
       "      <td>342.637253</td>\n",
       "      <td>5</td>\n",
       "      <td>42.2</td>\n",
       "      <td>43.4</td>\n",
       "      <td>2.52</td>\n",
       "      <td>52.7</td>\n",
       "      <td>...</td>\n",
       "      <td>58.4</td>\n",
       "      <td>45.3</td>\n",
       "      <td>25.0</td>\n",
       "      <td>91.744686</td>\n",
       "      <td>0.782626</td>\n",
       "      <td>1.161359</td>\n",
       "      <td>1.362643</td>\n",
       "      <td>51.021514</td>\n",
       "      <td>4.603841</td>\n",
       "      <td>47</td>\n",
       "    </tr>\n",
       "    <tr>\n",
       "      <th>4</th>\n",
       "      <td>57.0</td>\n",
       "      <td>144.4</td>\n",
       "      <td>350.1</td>\n",
       "      <td>12.5</td>\n",
       "      <td>0.000000</td>\n",
       "      <td>7</td>\n",
       "      <td>47.8</td>\n",
       "      <td>48.9</td>\n",
       "      <td>2.34</td>\n",
       "      <td>57.8</td>\n",
       "      <td>...</td>\n",
       "      <td>61.6</td>\n",
       "      <td>44.0</td>\n",
       "      <td>22.7</td>\n",
       "      <td>94.104024</td>\n",
       "      <td>0.270192</td>\n",
       "      <td>0.665830</td>\n",
       "      <td>0.492135</td>\n",
       "      <td>54.027460</td>\n",
       "      <td>6.796657</td>\n",
       "      <td>47</td>\n",
       "    </tr>\n",
       "  </tbody>\n",
       "</table>\n",
       "<p>5 rows × 27 columns</p>\n",
       "</div>"
      ],
      "text/plain": [
       "   avgAnnCount  TARGET_deathRate  incidenceRate  povertyPercent  studyPerCap  \\\n",
       "0       1397.0             164.9          489.8            11.2   499.748204   \n",
       "1        173.0             161.3          411.6            18.6    23.111234   \n",
       "2        102.0             174.7          349.7            14.6    47.560164   \n",
       "3        427.0             194.8          430.4            17.1   342.637253   \n",
       "4         57.0             144.4          350.1            12.5     0.000000   \n",
       "\n",
       "   binnedInc  MedianAgeMale  MedianAgeFemale  AvgHouseholdSize  \\\n",
       "0         10           36.9             41.7              2.54   \n",
       "1          7           32.2             33.7              2.34   \n",
       "2          7           44.0             45.8              2.62   \n",
       "3          5           42.2             43.4              2.52   \n",
       "4          7           47.8             48.9              2.34   \n",
       "\n",
       "   PercentMarried  ...  PctPrivateCoverage  PctPublicCoverage  \\\n",
       "0            52.5  ...                75.1               32.9   \n",
       "1            44.5  ...                70.2               31.1   \n",
       "2            54.2  ...                63.7               42.1   \n",
       "3            52.7  ...                58.4               45.3   \n",
       "4            57.8  ...                61.6               44.0   \n",
       "\n",
       "   PctPublicCoverageAlone   PctWhite  PctBlack  PctAsian  PctOtherRace  \\\n",
       "0                    14.0  81.780529  2.594728  4.821857      1.843479   \n",
       "1                    15.3  89.228509  0.969102  2.246233      3.741352   \n",
       "2                    21.1  90.922190  0.739673  0.465898      2.747358   \n",
       "3                    25.0  91.744686  0.782626  1.161359      1.362643   \n",
       "4                    22.7  94.104024  0.270192  0.665830      0.492135   \n",
       "\n",
       "   PctMarriedHouseholds  BirthRate  State  \n",
       "0             52.856076   6.118831     47  \n",
       "1             45.372500   4.333096     47  \n",
       "2             54.444868   3.729488     47  \n",
       "3             51.021514   4.603841     47  \n",
       "4             54.027460   6.796657     47  \n",
       "\n",
       "[5 rows x 27 columns]"
      ]
     },
     "execution_count": 1,
     "metadata": {},
     "output_type": "execute_result"
    }
   ],
   "source": [
    "import numpy as np\n",
    "import pandas as pd\n",
    "\n",
    "cancer_df = pd.DataFrame(pd.read_csv(\"cancer_clean.csv\"))\n",
    "cancer_df.head()     "
   ]
  },
  {
   "cell_type": "markdown",
   "id": "e7974ba6",
   "metadata": {},
   "source": [
    "## Splitting the dataset into Training and Tesing data¶\n",
    "\n",
    "### Data Segregation"
   ]
  },
  {
   "cell_type": "code",
   "execution_count": 2,
   "id": "076b31de",
   "metadata": {},
   "outputs": [
    {
     "data": {
      "text/plain": [
       "((3009, 26), (3009,))"
      ]
     },
     "execution_count": 2,
     "metadata": {},
     "output_type": "execute_result"
    }
   ],
   "source": [
    "X = cancer_df.drop(columns = ['TARGET_deathRate'])\n",
    "y = cancer_df['TARGET_deathRate']\n",
    "\n",
    "X.shape, y.shape"
   ]
  },
  {
   "cell_type": "code",
   "execution_count": 3,
   "id": "4032fc44",
   "metadata": {},
   "outputs": [
    {
     "name": "stdout",
     "output_type": "stream",
     "text": [
      "(2256, 26)\n",
      "(753, 26)\n"
     ]
    }
   ],
   "source": [
    "from sklearn.model_selection import train_test_split\n",
    "\n",
    "X_train, X_test, y_train, y_test = train_test_split(X,y, random_state=42)\n",
    "# test_size is default 0.25 if train_size also none. i.e. train = 0.75, train = 0.25\n",
    "#defining a seed to get the same split in the data\n",
    "print(X_train.shape)\n",
    "print(X_test.shape)"
   ]
  },
  {
   "cell_type": "markdown",
   "id": "60cefcb0",
   "metadata": {},
   "source": [
    "## k fold cross-validation to split the data"
   ]
  },
  {
   "cell_type": "code",
   "execution_count": 4,
   "id": "1e223442",
   "metadata": {},
   "outputs": [
    {
     "name": "stdout",
     "output_type": "stream",
     "text": [
      "First five train index: [1003 1004 1005 1006 1007] First five test index: [0 1 2 3 4]\n",
      "Shape of the Training set: (2006,) Shape of the Test set: (1003,) \n",
      "\n",
      "First five train index: [0 1 2 3 4] First five test index: [1003 1004 1005 1006 1007]\n",
      "Shape of the Training set: (2006,) Shape of the Test set: (1003,) \n",
      "\n",
      "First five train index: [0 1 2 3 4] First five test index: [2006 2007 2008 2009 2010]\n",
      "Shape of the Training set: (2006,) Shape of the Test set: (1003,) \n",
      "\n"
     ]
    }
   ],
   "source": [
    "# Creating the K-Fold ojbect\n",
    "from sklearn.model_selection import KFold\n",
    "cv_method = KFold(n_splits = 3)\n",
    "\n",
    "# Performing the K-Fold Cross-Validation\n",
    "for train_index, test_index in cv_method.split(cancer_df):\n",
    "    \n",
    "    # Obtaining the index for the training and test sets for the subset\n",
    "    print(\"First five train index:\", train_index[0:5], \"First five test index:\", test_index[0:5])\n",
    "    print('Shape of the Training set:', train_index.shape, 'Shape of the Test set:',test_index.shape, '\\n')"
   ]
  },
  {
   "cell_type": "markdown",
   "id": "5405776f",
   "metadata": {},
   "source": [
    "# Data Modeling\n",
    "\n",
    "## Model 4. Neuronal Network - Multi layer perceptron regressor model"
   ]
  },
  {
   "cell_type": "markdown",
   "id": "fc5ed4ae",
   "metadata": {},
   "source": [
    "#### Defining the model with scaling and then fitting the model"
   ]
  },
  {
   "cell_type": "code",
   "execution_count": 5,
   "id": "695181b8",
   "metadata": {},
   "outputs": [
    {
     "data": {
      "text/plain": [
       "Pipeline(steps=[('scaler', MinMaxScaler()),\n",
       "                ('mlp', MLPRegressor(max_iter=5000))])"
      ]
     },
     "execution_count": 5,
     "metadata": {},
     "output_type": "execute_result"
    }
   ],
   "source": [
    "from sklearn.neural_network import MLPRegressor\n",
    "from sklearn.preprocessing import MinMaxScaler\n",
    "from sklearn.pipeline import Pipeline\n",
    "\n",
    "# make the pipeline\n",
    "mlp_model = Pipeline([('scaler', MinMaxScaler()),\n",
    "                      ('mlp', MLPRegressor(max_iter=5000))])\n",
    "# had to use a very high max_iter as the convergence \n",
    "# doesn't occur until >1000\n",
    "mlp_model.fit(X_train, y_train)"
   ]
  },
  {
   "cell_type": "markdown",
   "id": "bbcee7eb",
   "metadata": {},
   "source": [
    "#### Getting the RMSE of the predictions"
   ]
  },
  {
   "cell_type": "code",
   "execution_count": 6,
   "id": "0fd35595",
   "metadata": {},
   "outputs": [
    {
     "name": "stdout",
     "output_type": "stream",
     "text": [
      "The Neuronal Network mlp model Mean Square Error on training data is :  353.5417092366601\n",
      "The Neuronal Network mlp model RMSE on training data is  18.80270483831143\n",
      "The Neuronal Network mlp model Mean Square Error on test data is :  372.7407504917035\n",
      "The Neuronal Network mlp model RMSE on test data is  19.30649503384039\n"
     ]
    }
   ],
   "source": [
    "from sklearn.metrics import mean_squared_error\n",
    "\n",
    "# predicting on the training data\n",
    "y_train_predict = mlp_model.predict(X_train)\n",
    "# predicting on the test data\n",
    "y_test_predict = mlp_model.predict(X_test)\n",
    "\n",
    "MSE_train = mean_squared_error(y_train, y_train_predict)\n",
    "RMSE_train = np.sqrt(MSE_train)\n",
    "MSE_test = mean_squared_error(y_test, y_test_predict)\n",
    "RMSE_test = np.sqrt(MSE_test)\n",
    "\n",
    "print('The Neuronal Network mlp model Mean Square Error on training data is : ', MSE_train)\n",
    "print('The Neuronal Network mlp model RMSE on training data is ', RMSE_train)\n",
    "print('The Neuronal Network mlp model Mean Square Error on test data is : ', MSE_test)\n",
    "print('The Neuronal Network mlp model RMSE on test data is ', RMSE_test)"
   ]
  },
  {
   "cell_type": "markdown",
   "id": "c7282300",
   "metadata": {},
   "source": [
    "The RMSE of the test data is slightly greater than on the training data which gives some indication that the model is not over or under fitted."
   ]
  },
  {
   "cell_type": "markdown",
   "id": "2cfa4894",
   "metadata": {},
   "source": [
    "# Hyperparameter tuning"
   ]
  },
  {
   "cell_type": "markdown",
   "id": "c19ffc1d",
   "metadata": {},
   "source": [
    "## Creating the parameter grid and using GridSearchCV to find the best parameters"
   ]
  },
  {
   "cell_type": "code",
   "execution_count": 7,
   "id": "91c1ce80",
   "metadata": {},
   "outputs": [
    {
     "data": {
      "text/plain": [
       "dict_keys(['memory', 'steps', 'verbose', 'scaler', 'mlp', 'scaler__clip', 'scaler__copy', 'scaler__feature_range', 'mlp__activation', 'mlp__alpha', 'mlp__batch_size', 'mlp__beta_1', 'mlp__beta_2', 'mlp__early_stopping', 'mlp__epsilon', 'mlp__hidden_layer_sizes', 'mlp__learning_rate', 'mlp__learning_rate_init', 'mlp__max_fun', 'mlp__max_iter', 'mlp__momentum', 'mlp__n_iter_no_change', 'mlp__nesterovs_momentum', 'mlp__power_t', 'mlp__random_state', 'mlp__shuffle', 'mlp__solver', 'mlp__tol', 'mlp__validation_fraction', 'mlp__verbose', 'mlp__warm_start'])"
      ]
     },
     "execution_count": 7,
     "metadata": {},
     "output_type": "execute_result"
    }
   ],
   "source": [
    "mlp_model.get_params().keys()"
   ]
  },
  {
   "cell_type": "code",
   "execution_count": 8,
   "id": "51ea71a0",
   "metadata": {},
   "outputs": [
    {
     "name": "stdout",
     "output_type": "stream",
     "text": [
      "Fitting 3 folds for each of 108 candidates, totalling 324 fits\n"
     ]
    },
    {
     "name": "stderr",
     "output_type": "stream",
     "text": [
      "C:\\Users\\skent\\anaconda3\\lib\\site-packages\\sklearn\\model_selection\\_search.py:918: UserWarning: One or more of the test scores are non-finite: [-2.74881071e+001 -2.74811739e+001 -2.50636476e+001 -2.74807979e+001\n",
      " -2.74822152e+001 -2.54080401e+001 -2.74855859e+001 -2.74803865e+001\n",
      " -2.30388424e+001 -2.74790974e+001 -2.74817347e+001 -2.72636317e+001\n",
      " -2.74990786e+001 -2.74797876e+001 -2.83402372e+001 -2.74796076e+001\n",
      " -2.74799593e+001 -2.83350475e+001 -2.74834182e+001 -2.04250318e+001\n",
      " -2.02620420e+001 -2.74754446e+001 -1.99738047e+001 -2.33235168e+001\n",
      " -2.74517838e+001 -2.74788288e+001 -2.45214803e+001 -2.74777305e+001\n",
      " -2.74779063e+001 -2.76441010e+001 -2.75056870e+001 -2.74809597e+001\n",
      " -2.98233126e+001 -2.74805486e+001 -2.74780560e+001 -2.73961198e+001\n",
      " -2.74817669e+001 -2.02001645e+001 -2.32759578e+001 -2.74795422e+001\n",
      " -2.00293664e+001 -2.07779512e+001 -2.74833213e+001 -2.74809798e+001\n",
      " -2.44566345e+001 -2.74778915e+001 -2.74774266e+001 -2.36484613e+001\n",
      " -2.74944734e+001 -2.74816959e+001 -2.99814702e+001 -2.74768348e+001\n",
      " -2.74786030e+001 -2.68552173e+001 -2.46164200e+003 -2.03395357e+001\n",
      " -2.07882837e+001 -2.74798929e+001 -2.05188178e+001 -2.11733507e+001\n",
      "              nan -1.98012812e+001 -2.58925700e+001              nan\n",
      " -1.99074986e+001 -2.50514898e+001              nan -1.96065180e+001\n",
      " -3.03766553e+001              nan -2.00060269e+001 -3.11066125e+001\n",
      " -6.65953821e+001 -2.02762628e+001 -2.11126868e+001 -5.72538067e+001\n",
      " -1.98400960e+001 -2.01507424e+001              nan -1.97830791e+001\n",
      " -2.85491467e+001              nan -1.99923450e+001 -3.10718382e+001\n",
      "              nan -1.98791350e+001 -3.34722137e+001              nan\n",
      " -2.00833439e+001 -3.23634738e+001 -1.84114008e+113 -2.03581032e+001\n",
      " -2.12135581e+001 -5.32834250e+001 -2.01909282e+001 -2.08136203e+001\n",
      "              nan -2.03078004e+001 -2.48534575e+001              nan\n",
      " -1.99757088e+001 -2.61921860e+001              nan -1.96596260e+001\n",
      " -2.78420145e+001              nan -1.98152522e+001 -3.17738909e+001]\n",
      "  warnings.warn(\n"
     ]
    },
    {
     "name": "stdout",
     "output_type": "stream",
     "text": [
      "Wall time: 22min 1s\n",
      "best parameters for mlp model {'mlp__activation': 'relu', 'mlp__alpha': 0.0001, 'mlp__hidden_layer_sizes': (100, 100, 100), 'mlp__learning_rate': 'constant', 'mlp__solver': 'adam'}\n"
     ]
    }
   ],
   "source": [
    "from sklearn.model_selection import GridSearchCV\n",
    "#hyperparameters to calibrate\n",
    "param_grid = {\n",
    "    'mlp__hidden_layer_sizes': [(10,10,10), (50,50,50), (100,100,100)],\n",
    "    'mlp__activation': ['tanh', 'relu'],\n",
    "    'mlp__solver': ['sgd', 'adam', 'lbfgs'],\n",
    "    'mlp__alpha': [0.0001, 0.05, 0.1],\n",
    "    'mlp__learning_rate': ['constant', 'adaptive'], \n",
    "}\n",
    "#searching for the optimal parameter from param_grid\n",
    "grid_mlp = GridSearchCV(mlp_model, param_grid, cv=cv_method, scoring='neg_root_mean_squared_error', n_jobs=-1, verbose=2) \n",
    "\n",
    "%time grid_mlp.fit(X_train, y_train)\n",
    "print('best parameters for mlp model', grid_mlp.best_params_)"
   ]
  },
  {
   "cell_type": "markdown",
   "id": "a38c3ee2",
   "metadata": {},
   "source": [
    "#### Assigning the best parameters to the model using grid.best_estimator_"
   ]
  },
  {
   "cell_type": "code",
   "execution_count": 9,
   "id": "edf276b3",
   "metadata": {},
   "outputs": [
    {
     "data": {
      "text/plain": [
       "Pipeline(steps=[('scaler', MinMaxScaler()),\n",
       "                ('mlp',\n",
       "                 MLPRegressor(hidden_layer_sizes=(100, 100, 100),\n",
       "                              max_iter=5000))])"
      ]
     },
     "execution_count": 9,
     "metadata": {},
     "output_type": "execute_result"
    }
   ],
   "source": [
    "mlp_tuned = grid_mlp.best_estimator_\n",
    "mlp_tuned "
   ]
  },
  {
   "cell_type": "markdown",
   "id": "96dcad0e",
   "metadata": {},
   "source": [
    "#### Getting the performance of the TUNED model on the testing data"
   ]
  },
  {
   "cell_type": "code",
   "execution_count": 10,
   "id": "c83fe232",
   "metadata": {},
   "outputs": [
    {
     "name": "stdout",
     "output_type": "stream",
     "text": [
      "The TUNED Neuronal Network model Mean Square Error on training data is :  325.29407071721806\n",
      "The TUNED Neuronal Network model RMSE on training data is  18.035910587414712\n",
      "The TUNED Neuronal Network model Mean Square Error on test data is :  337.45492013559567\n",
      "The TUNED Neuronal Network model RMSE on test data is  18.36994611139607\n"
     ]
    }
   ],
   "source": [
    "# predicting on the training data\n",
    "y_tuned_train_predict = mlp_tuned.predict(X_train)\n",
    "# predicting on the test data\n",
    "y_tuned_test_predict = mlp_tuned.predict(X_test)\n",
    "\n",
    "MSE_tuned_train = mean_squared_error(y_train, y_tuned_train_predict)\n",
    "RMSE_tuned_train = np.sqrt(MSE_tuned_train)\n",
    "MSE_tuned_test = mean_squared_error(y_test, y_tuned_test_predict)\n",
    "RMSE_tuned_test = np.sqrt(MSE_tuned_test)\n",
    "\n",
    "print('The TUNED Neuronal Network model Mean Square Error on training data is : ', MSE_tuned_train)\n",
    "print('The TUNED Neuronal Network model RMSE on training data is ', RMSE_tuned_train)\n",
    "print('The TUNED Neuronal Network model Mean Square Error on test data is : ', MSE_tuned_test)\n",
    "print('The TUNED Neuronal Network model RMSE on test data is ', RMSE_tuned_test)"
   ]
  },
  {
   "cell_type": "markdown",
   "id": "d14b20e8",
   "metadata": {},
   "source": [
    "The difference in training and testing RMSE remains reasonable."
   ]
  },
  {
   "cell_type": "code",
   "execution_count": 11,
   "id": "c7cd83c0",
   "metadata": {},
   "outputs": [
    {
     "name": "stdout",
     "output_type": "stream",
     "text": [
      "Best Cross-Validation Accuracy:  -19.606517981539056\n"
     ]
    }
   ],
   "source": [
    "print('Best Cross-Validation Accuracy: ', grid_mlp.best_score_)"
   ]
  },
  {
   "cell_type": "markdown",
   "id": "6f1d6131",
   "metadata": {},
   "source": [
    "## Table of performance results"
   ]
  },
  {
   "cell_type": "code",
   "execution_count": 12,
   "id": "41460235",
   "metadata": {},
   "outputs": [
    {
     "name": "stdout",
     "output_type": "stream",
     "text": [
      "Model         MSE     RMSE\n",
      "--------  -------  -------\n",
      "Baseline  823.34   28.69\n",
      "Untuned   372.741  19.3065\n",
      "Tuned     337.455  18.3699\n"
     ]
    }
   ],
   "source": [
    "from tabulate import tabulate\n",
    "\n",
    "#create data\n",
    "data = [[\"Baseline\", 823.34, 28.69], \n",
    "        [\"Untuned\", MSE_test, RMSE_test],\n",
    "       [\"Tuned\", MSE_tuned_test, RMSE_tuned_test]]\n",
    "  \n",
    "#define header names\n",
    "col_names = [\"Model\", \"MSE\", \"RMSE\"]\n",
    "  \n",
    "#display table\n",
    "print(tabulate(data, headers = col_names))"
   ]
  },
  {
   "cell_type": "markdown",
   "id": "88d7bd2c",
   "metadata": {},
   "source": [
    "### Plotting the predicted values against the real values"
   ]
  },
  {
   "cell_type": "code",
   "execution_count": 13,
   "id": "c31f2126",
   "metadata": {},
   "outputs": [
    {
     "data": {
      "text/plain": [
       "[]"
      ]
     },
     "execution_count": 13,
     "metadata": {},
     "output_type": "execute_result"
    },
    {
     "data": {
      "image/png": "[encoded data removed]",
      "text/plain": [
       "<Figure size 432x288 with 1 Axes>"
      ]
     },
     "metadata": {},
     "output_type": "display_data"
    }
   ],
   "source": [
    "import matplotlib.pyplot as plt\n",
    "import seaborn as sns\n",
    "sns.set()\n",
    "\n",
    "cancer_df['predicted'] = mlp_tuned.predict(X)\n",
    "cancer_df[['TARGET_deathRate', 'predicted']].plot(alpha=0.5)\n",
    "\n",
    "plt.plot()"
   ]
  },
  {
   "cell_type": "markdown",
   "id": "37274636",
   "metadata": {},
   "source": [
    "## 7. Saving the model for future use"
   ]
  },
  {
   "cell_type": "code",
   "execution_count": 14,
   "id": "e2ca1f21",
   "metadata": {},
   "outputs": [],
   "source": [
    "import pickle\n",
    "\n",
    "filename = 'Optimal_Trained_mlp_model.sav'\n",
    "pickle.dump(mlp_tuned, open(filename, 'wb'))"
   ]
  },
  {
   "cell_type": "markdown",
   "id": "4b1707b2",
   "metadata": {},
   "source": [
    "#### Checking that it has worked by reloading the model and predicting"
   ]
  },
  {
   "cell_type": "code",
   "execution_count": 21,
   "id": "7e351a95",
   "metadata": {},
   "outputs": [
    {
     "name": "stdout",
     "output_type": "stream",
     "text": [
      "(753,)\n",
      "[172.46443572 151.40300515 165.46055535 169.22076902 171.28622011]\n"
     ]
    }
   ],
   "source": [
    "filename = 'Optimal_Trained_mlp_model.sav'\n",
    "mlp_model_reloaded = pickle.load(open(filename, 'rb'))\n",
    "\n",
    "reload_y_predict = mlp_model_reloaded.predict(X_test) \n",
    "\n",
    "print(reload_y_predict.shape)\n",
    "print(reload_y_predict[0:5])"
   ]
  },
  {
   "cell_type": "markdown",
   "id": "8cb542cb",
   "metadata": {},
   "source": [
    "#### Check the accuracy"
   ]
  },
  {
   "cell_type": "code",
   "execution_count": 22,
   "id": "5b1a36c5",
   "metadata": {},
   "outputs": [
    {
     "name": "stdout",
     "output_type": "stream",
     "text": [
      "The RMSE of the reloaded model on test data is  18.36994611139607\n"
     ]
    }
   ],
   "source": [
    "MSE_reload = mean_squared_error(y_test, reload_y_predict)\n",
    "RMSE_reload = np.sqrt(MSE_reload)\n",
    "print('The RMSE of the reloaded model on test data is ', RMSE_reload)"
   ]
  },
  {
   "cell_type": "markdown",
   "id": "6ffdab4c",
   "metadata": {},
   "source": [
    "This matches the RMSE of the original mlp_tuned model."
   ]
  }
 ],
 "metadata": {
  "kernelspec": {
   "display_name": "Python 3",
   "language": "python",
   "name": "python3"
  },
  "language_info": {
   "codemirror_mode": {
    "name": "ipython",
    "version": 3
   },
   "file_extension": ".py",
   "mimetype": "text/x-python",
   "name": "python",
   "nbconvert_exporter": "python",
   "pygments_lexer": "ipython3",
   "version": "3.8.8"
  }
 },
 "nbformat": 4,
 "nbformat_minor": 5
}
